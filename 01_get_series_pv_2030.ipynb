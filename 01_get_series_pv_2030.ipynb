{
 "cells": [
  {
   "cell_type": "code",
   "execution_count": 21,
   "metadata": {},
   "outputs": [],
   "source": [
    "import matplotlib.pyplot as plt\n",
    "import xarray as xr\n",
    "import numpy as np\n",
    "import pandas as pd\n",
    "from tqdm import tqdm\n",
    "import atlite"
   ]
  },
  {
   "cell_type": "markdown",
   "metadata": {},
   "source": [
    "The objective of this code is to use the PV model we selected to obtain a long-term PV CF time series that we can store and later use to run our analysis. The process is the same we did for PV but this time we consider the locations of farms projected for 2030."
   ]
  },
  {
   "cell_type": "markdown",
   "metadata": {},
   "source": [
    "## Necessary steps:\n",
    "\n",
    "Step 1: Load the ERA5 data and create a cutout\n",
    "\n",
    "Step 2: Load the farm data\n",
    "\n",
    "Step 3: Run the atlite PV model for the entire period\n",
    "\n",
    "Step 3: Save the data into a file to use later in the analysis"
   ]
  },
  {
   "cell_type": "markdown",
   "metadata": {},
   "source": [
    "### Step 1: Load the ERA5 data and create a cutout"
   ]
  },
  {
   "cell_type": "markdown",
   "metadata": {},
   "source": [
    "Load the ERA5 data"
   ]
  },
  {
   "cell_type": "code",
   "execution_count": null,
   "metadata": {},
   "outputs": [],
   "source": [
    "ds_temperature_2018_2023 = xr.open_dataset('../data/ERA5/ERA5_2m_temperature_soil_temperature_level_4_hourly_2018_2023.nc')\n",
    "ds_radiation_sfc_2018_2023 = xr.open_dataset('../data/ERA5/ERA5_surface_net_solar_radiation_surface_solar_radiation_downwards_hourly_2018_2023.nc')\n",
    "ds_radiation_toa_2018_2023 = xr.open_dataset('../data/ERA5/ERA5_toa_incident_solar_radiation_total_sky_direct_solar_radiation_at_surface_hourly_2018_2023.nc')\n",
    "\n",
    "ds_temperature_2018_2023 = ds_temperature_2018_2023.reduce(np.nanmean, dim='expver',keep_attrs=True)\n",
    "ds_radiation_sfc_2018_2023 = ds_radiation_sfc_2018_2023.reduce(np.nanmean, dim='expver',keep_attrs=True)\n",
    "ds_radiation_toa_2018_2023 = ds_radiation_toa_2018_2023.reduce(np.nanmean, dim='expver',keep_attrs=True)"
   ]
  },
  {
   "cell_type": "code",
   "execution_count": null,
   "metadata": {},
   "outputs": [],
   "source": [
    "ds_temperature_1988_2017 = xr.open_mfdataset(['../data/ERA5/ERA5_2m_temperature_soil_temperature_level_4_hourly_{}_{}.nc'.format(yy, yy+5) for yy in np.arange(1988, 2013, 6, dtype=int)])\n",
    "ds_radiation_sfc_1988_2017 = xr.open_mfdataset(['../data/ERA5/ERA5_surface_net_solar_radiation_surface_solar_radiation_downwards_hourly_{}_{}.nc'.format(yy, yy+5) for yy in np.arange(1988, 2013, 6, dtype=int)])\n",
    "ds_radiation_toa_1988_2017 = xr.open_mfdataset(['../data/ERA5/ERA5_toa_incident_solar_radiation_total_sky_direct_solar_radiation_at_surface_hourly_{}_{}.nc'.format(yy, yy+5) for yy in np.arange(1988, 2013, 6, dtype=int)])"
   ]
  },
  {
   "cell_type": "code",
   "execution_count": null,
   "metadata": {},
   "outputs": [],
   "source": [
    "list_files_era5_old = []\n",
    "filepath_base = '../data/ERA5/ERA5_all_variables_{}_{:02d}.nc'\n",
    "for year in np.arange(1940,1988, dtype=int):\n",
    "    for month in np.arange(1,13, dtype=int):\n",
    "        list_files_era5_old.append(filepath_base.format(year, month))"
   ]
  },
  {
   "cell_type": "code",
   "execution_count": 25,
   "metadata": {},
   "outputs": [],
   "source": [
    "ds_1940_1987 = xr.open_mfdataset(list_files_era5_old)"
   ]
  },
  {
   "cell_type": "code",
   "execution_count": 26,
   "metadata": {},
   "outputs": [],
   "source": [
    "ds_1940_1987 = ds_1940_1987[['tisr', 'fdir', 'ssr', 'ssrd', 't2m', 'stl4']]"
   ]
  },
  {
   "cell_type": "code",
   "execution_count": 27,
   "metadata": {},
   "outputs": [],
   "source": [
    "ds = xr.concat([ds_1940_1987,\n",
    "                xr.merge([ds_temperature_1988_2017, ds_radiation_sfc_1988_2017, ds_radiation_toa_1988_2017]),\n",
    "                xr.merge([ds_temperature_2018_2023, ds_radiation_sfc_2018_2023, ds_radiation_toa_2018_2023])\n",
    "                ], dim='time')"
   ]
  },
  {
   "cell_type": "code",
   "execution_count": 28,
   "metadata": {},
   "outputs": [],
   "source": [
    "cutout_ie = atlite.cutout.get_cutout_from_era5_data('path', ds, ['influx', 'temperature'])"
   ]
  },
  {
   "cell_type": "markdown",
   "metadata": {},
   "source": [
    "### Step 2: Load the farm data"
   ]
  },
  {
   "cell_type": "code",
   "execution_count": null,
   "metadata": {},
   "outputs": [],
   "source": [
    "path_farms = '../data/EirGrid/2030_planned_capacity.csv'\n",
    "df_farms = pd.read_csv(path_farms)\n",
    "df_farms = df_farms.iloc[:-2]"
   ]
  },
  {
   "cell_type": "code",
   "execution_count": 30,
   "metadata": {},
   "outputs": [
    {
     "data": {
      "text/html": [
       "<div>\n",
       "<style scoped>\n",
       "    .dataframe tbody tr th:only-of-type {\n",
       "        vertical-align: middle;\n",
       "    }\n",
       "\n",
       "    .dataframe tbody tr th {\n",
       "        vertical-align: top;\n",
       "    }\n",
       "\n",
       "    .dataframe thead th {\n",
       "        text-align: right;\n",
       "    }\n",
       "</style>\n",
       "<table border=\"1\" class=\"dataframe\">\n",
       "  <thead>\n",
       "    <tr style=\"text-align: right;\">\n",
       "      <th></th>\n",
       "      <th>Name</th>\n",
       "      <th>OnshoreWind</th>\n",
       "      <th>OffShoreWind</th>\n",
       "      <th>PV</th>\n",
       "      <th>centroid_lon</th>\n",
       "      <th>centroid_lat</th>\n",
       "    </tr>\n",
       "  </thead>\n",
       "  <tbody>\n",
       "    <tr>\n",
       "      <th>0</th>\n",
       "      <td>A</td>\n",
       "      <td>1150</td>\n",
       "      <td>0</td>\n",
       "      <td>150</td>\n",
       "      <td>-7.961187</td>\n",
       "      <td>54.781943</td>\n",
       "    </tr>\n",
       "    <tr>\n",
       "      <th>1</th>\n",
       "      <td>B</td>\n",
       "      <td>1330</td>\n",
       "      <td>0</td>\n",
       "      <td>470</td>\n",
       "      <td>-9.234611</td>\n",
       "      <td>53.783391</td>\n",
       "    </tr>\n",
       "    <tr>\n",
       "      <th>2</th>\n",
       "      <td>C</td>\n",
       "      <td>630</td>\n",
       "      <td>0</td>\n",
       "      <td>520</td>\n",
       "      <td>-7.960707</td>\n",
       "      <td>53.574123</td>\n",
       "    </tr>\n",
       "    <tr>\n",
       "      <th>3</th>\n",
       "      <td>D</td>\n",
       "      <td>380</td>\n",
       "      <td>0</td>\n",
       "      <td>260</td>\n",
       "      <td>-8.956443</td>\n",
       "      <td>52.905195</td>\n",
       "    </tr>\n",
       "    <tr>\n",
       "      <th>4</th>\n",
       "      <td>E</td>\n",
       "      <td>1830</td>\n",
       "      <td>390</td>\n",
       "      <td>560</td>\n",
       "      <td>-9.366938</td>\n",
       "      <td>52.168014</td>\n",
       "    </tr>\n",
       "    <tr>\n",
       "      <th>5</th>\n",
       "      <td>F</td>\n",
       "      <td>320</td>\n",
       "      <td>0</td>\n",
       "      <td>90</td>\n",
       "      <td>-9.106804</td>\n",
       "      <td>51.683789</td>\n",
       "    </tr>\n",
       "    <tr>\n",
       "      <th>6</th>\n",
       "      <td>G</td>\n",
       "      <td>370</td>\n",
       "      <td>370</td>\n",
       "      <td>490</td>\n",
       "      <td>-6.890747</td>\n",
       "      <td>53.892717</td>\n",
       "    </tr>\n",
       "    <tr>\n",
       "      <th>7</th>\n",
       "      <td>H1</td>\n",
       "      <td>630</td>\n",
       "      <td>0</td>\n",
       "      <td>450</td>\n",
       "      <td>-7.996979</td>\n",
       "      <td>52.564234</td>\n",
       "    </tr>\n",
       "    <tr>\n",
       "      <th>8</th>\n",
       "      <td>H2</td>\n",
       "      <td>860</td>\n",
       "      <td>1170</td>\n",
       "      <td>1260</td>\n",
       "      <td>-6.803512</td>\n",
       "      <td>52.670921</td>\n",
       "    </tr>\n",
       "    <tr>\n",
       "      <th>9</th>\n",
       "      <td>I</td>\n",
       "      <td>10</td>\n",
       "      <td>350</td>\n",
       "      <td>460</td>\n",
       "      <td>-8.354858</td>\n",
       "      <td>51.862738</td>\n",
       "    </tr>\n",
       "    <tr>\n",
       "      <th>10</th>\n",
       "      <td>J</td>\n",
       "      <td>1380</td>\n",
       "      <td>2720</td>\n",
       "      <td>2940</td>\n",
       "      <td>-6.846911</td>\n",
       "      <td>53.308898</td>\n",
       "    </tr>\n",
       "    <tr>\n",
       "      <th>11</th>\n",
       "      <td>K</td>\n",
       "      <td>110</td>\n",
       "      <td>0</td>\n",
       "      <td>350</td>\n",
       "      <td>-7.767214</td>\n",
       "      <td>52.066502</td>\n",
       "    </tr>\n",
       "  </tbody>\n",
       "</table>\n",
       "</div>"
      ],
      "text/plain": [
       "   Name  OnshoreWind  OffShoreWind    PV  centroid_lon  centroid_lat\n",
       "0     A         1150             0   150     -7.961187     54.781943\n",
       "1     B         1330             0   470     -9.234611     53.783391\n",
       "2     C          630             0   520     -7.960707     53.574123\n",
       "3     D          380             0   260     -8.956443     52.905195\n",
       "4     E         1830           390   560     -9.366938     52.168014\n",
       "5     F          320             0    90     -9.106804     51.683789\n",
       "6     G          370           370   490     -6.890747     53.892717\n",
       "7    H1          630             0   450     -7.996979     52.564234\n",
       "8    H2          860          1170  1260     -6.803512     52.670921\n",
       "9     I           10           350   460     -8.354858     51.862738\n",
       "10    J         1380          2720  2940     -6.846911     53.308898\n",
       "11    K          110             0   350     -7.767214     52.066502"
      ]
     },
     "execution_count": 30,
     "metadata": {},
     "output_type": "execute_result"
    }
   ],
   "source": [
    "df_farms"
   ]
  },
  {
   "cell_type": "code",
   "execution_count": 31,
   "metadata": {},
   "outputs": [],
   "source": [
    "df_capacity_solar = df_farms[['PV', 'centroid_lon', 'centroid_lat']]"
   ]
  },
  {
   "cell_type": "code",
   "execution_count": 32,
   "metadata": {},
   "outputs": [],
   "source": [
    "df_capacity_solar = df_capacity_solar.rename({'PV':'MEC', 'centroid_lon':'x', 'centroid_lat':'y'}, axis='columns')\n",
    "df_capacity_solar['capacity'] = 1.4*df_capacity_solar['MEC']"
   ]
  },
  {
   "cell_type": "markdown",
   "metadata": {},
   "source": [
    "### Step 3: Run atlite"
   ]
  },
  {
   "cell_type": "code",
   "execution_count": 33,
   "metadata": {},
   "outputs": [],
   "source": [
    "def get_cf_series_atlite(cutout_ie: atlite.Cutout, df_capacity: pd.DataFrame, panel_model: str, only_cf: bool = True):\n",
    "    summed_time_series = np.zeros(cutout_ie.data['time'].shape)\n",
    "    total_capacity_time_series  = np.zeros(cutout_ie.data['time'].shape)\n",
    "\n",
    "    # Iterate over all capacity installations\n",
    "    for idx, row in tqdm(df_capacity.reset_index().iterrows(), total= df_capacity.shape[0]):\n",
    "        cap = row['capacity']\n",
    "        mec = row['MEC']\n",
    "        df_capacity_i = pd.DataFrame([row])\n",
    "        layout = cutout_ie.layout_from_capacity_list(df_capacity_i, col=\"capacity\")\n",
    "\n",
    "        time_series = cutout_ie.pv(layout=layout,\n",
    "                                    panel=atlite.convert.get_solarpanelconfig(panel_model),\n",
    "                                    orientation=atlite.convert.get_orientation('latitude_optimal'),\n",
    "                                    tracking=None)\n",
    "\n",
    "        time_series = time_series.squeeze()\n",
    "        time_series[time_series>mec] = mec\n",
    "\n",
    "        capacity_time_series = time_series.copy()\n",
    "        capacity_time_series[:] = mec\n",
    "\n",
    "    # Add the mean CF time series to the total multiplied by the capacity (weight)\n",
    "        summed_time_series += time_series[:]\n",
    "        total_capacity_time_series += capacity_time_series[:]\n",
    "\n",
    "    # Divide the total time series by the total IC to go back to CF\n",
    "    cf_time_series = summed_time_series/total_capacity_time_series\n",
    "    if only_cf:\n",
    "        return cf_time_series\n",
    "    return cf_time_series, summed_time_series, total_capacity_time_series"
   ]
  },
  {
   "cell_type": "code",
   "execution_count": 34,
   "metadata": {},
   "outputs": [
    {
     "name": "stderr",
     "output_type": "stream",
     "text": [
      "  0%|          | 0/12 [00:00<?, ?it/s]"
     ]
    },
    {
     "name": "stdout",
     "output_type": "stream",
     "text": [
      "[######                                  ] | 16% Completed | 6.36 s"
     ]
    },
    {
     "name": "stderr",
     "output_type": "stream",
     "text": [
      "/Users/aina/anaconda3/envs/atlite/lib/python3.11/site-packages/dask/core.py:121: RuntimeWarning: invalid value encountered in log\n",
      "  return func(*(_execute_task(a, cache) for a in args))\n"
     ]
    },
    {
     "name": "stdout",
     "output_type": "stream",
     "text": [
      "[########################################] | 100% Completed | 27.54 s\n"
     ]
    },
    {
     "name": "stderr",
     "output_type": "stream",
     "text": [
      "  8%|▊         | 1/12 [00:29<05:23, 29.44s/it]"
     ]
    },
    {
     "name": "stdout",
     "output_type": "stream",
     "text": [
      "[######                                  ] | 16% Completed | 7.17 s"
     ]
    },
    {
     "name": "stderr",
     "output_type": "stream",
     "text": [
      "/Users/aina/anaconda3/envs/atlite/lib/python3.11/site-packages/dask/core.py:121: RuntimeWarning: invalid value encountered in log\n",
      "  return func(*(_execute_task(a, cache) for a in args))\n"
     ]
    },
    {
     "name": "stdout",
     "output_type": "stream",
     "text": [
      "[########################################] | 100% Completed | 23.62 s\n"
     ]
    },
    {
     "name": "stderr",
     "output_type": "stream",
     "text": [
      " 17%|█▋        | 2/12 [00:55<04:32, 27.21s/it]"
     ]
    },
    {
     "name": "stdout",
     "output_type": "stream",
     "text": [
      "[######                                  ] | 16% Completed | 6.86 s"
     ]
    },
    {
     "name": "stderr",
     "output_type": "stream",
     "text": [
      "/Users/aina/anaconda3/envs/atlite/lib/python3.11/site-packages/dask/core.py:121: RuntimeWarning: invalid value encountered in log\n",
      "  return func(*(_execute_task(a, cache) for a in args))\n"
     ]
    },
    {
     "name": "stdout",
     "output_type": "stream",
     "text": [
      "[########################################] | 100% Completed | 23.33 s\n"
     ]
    },
    {
     "name": "stderr",
     "output_type": "stream",
     "text": [
      " 25%|██▌       | 3/12 [01:20<03:56, 26.25s/it]"
     ]
    },
    {
     "name": "stdout",
     "output_type": "stream",
     "text": [
      "[######                                  ] | 16% Completed | 6.46 s"
     ]
    },
    {
     "name": "stderr",
     "output_type": "stream",
     "text": [
      "/Users/aina/anaconda3/envs/atlite/lib/python3.11/site-packages/dask/core.py:121: RuntimeWarning: invalid value encountered in log\n",
      "  return func(*(_execute_task(a, cache) for a in args))\n"
     ]
    },
    {
     "name": "stdout",
     "output_type": "stream",
     "text": [
      "[########################################] | 100% Completed | 22.44 s\n"
     ]
    },
    {
     "name": "stderr",
     "output_type": "stream",
     "text": [
      " 33%|███▎      | 4/12 [01:44<03:23, 25.44s/it]"
     ]
    },
    {
     "name": "stdout",
     "output_type": "stream",
     "text": [
      "[######                                  ] | 16% Completed | 6.53 s"
     ]
    },
    {
     "name": "stderr",
     "output_type": "stream",
     "text": [
      "/Users/aina/anaconda3/envs/atlite/lib/python3.11/site-packages/dask/core.py:121: RuntimeWarning: invalid value encountered in log\n",
      "  return func(*(_execute_task(a, cache) for a in args))\n"
     ]
    },
    {
     "name": "stdout",
     "output_type": "stream",
     "text": [
      "[########################################] | 100% Completed | 22.83 s\n"
     ]
    },
    {
     "name": "stderr",
     "output_type": "stream",
     "text": [
      " 42%|████▏     | 5/12 [02:09<02:56, 25.19s/it]"
     ]
    },
    {
     "name": "stdout",
     "output_type": "stream",
     "text": [
      "[######                                  ] | 16% Completed | 6.21 s"
     ]
    },
    {
     "name": "stderr",
     "output_type": "stream",
     "text": [
      "/Users/aina/anaconda3/envs/atlite/lib/python3.11/site-packages/dask/core.py:121: RuntimeWarning: invalid value encountered in log\n",
      "  return func(*(_execute_task(a, cache) for a in args))\n"
     ]
    },
    {
     "name": "stdout",
     "output_type": "stream",
     "text": [
      "[########################################] | 100% Completed | 22.91 s\n"
     ]
    },
    {
     "name": "stderr",
     "output_type": "stream",
     "text": [
      " 50%|█████     | 6/12 [02:33<02:29, 24.99s/it]"
     ]
    },
    {
     "name": "stdout",
     "output_type": "stream",
     "text": [
      "[######                                  ] | 16% Completed | 6.07 s"
     ]
    },
    {
     "name": "stderr",
     "output_type": "stream",
     "text": [
      "/Users/aina/anaconda3/envs/atlite/lib/python3.11/site-packages/dask/core.py:121: RuntimeWarning: invalid value encountered in log\n",
      "  return func(*(_execute_task(a, cache) for a in args))\n"
     ]
    },
    {
     "name": "stdout",
     "output_type": "stream",
     "text": [
      "[########################################] | 100% Completed | 22.01 s\n"
     ]
    },
    {
     "name": "stderr",
     "output_type": "stream",
     "text": [
      " 58%|█████▊    | 7/12 [02:57<02:03, 24.66s/it]"
     ]
    },
    {
     "name": "stdout",
     "output_type": "stream",
     "text": [
      "[######                                  ] | 16% Completed | 6.02 s"
     ]
    },
    {
     "name": "stderr",
     "output_type": "stream",
     "text": [
      "/Users/aina/anaconda3/envs/atlite/lib/python3.11/site-packages/dask/core.py:121: RuntimeWarning: invalid value encountered in log\n",
      "  return func(*(_execute_task(a, cache) for a in args))\n"
     ]
    },
    {
     "name": "stdout",
     "output_type": "stream",
     "text": [
      "[########################################] | 100% Completed | 22.56 s\n"
     ]
    },
    {
     "name": "stderr",
     "output_type": "stream",
     "text": [
      " 67%|██████▋   | 8/12 [03:22<01:38, 24.62s/it]"
     ]
    },
    {
     "name": "stdout",
     "output_type": "stream",
     "text": [
      "[######                                  ] | 16% Completed | 6.24 s"
     ]
    },
    {
     "name": "stderr",
     "output_type": "stream",
     "text": [
      "/Users/aina/anaconda3/envs/atlite/lib/python3.11/site-packages/dask/core.py:121: RuntimeWarning: invalid value encountered in log\n",
      "  return func(*(_execute_task(a, cache) for a in args))\n"
     ]
    },
    {
     "name": "stdout",
     "output_type": "stream",
     "text": [
      "[########################################] | 100% Completed | 23.57 s\n"
     ]
    },
    {
     "name": "stderr",
     "output_type": "stream",
     "text": [
      " 75%|███████▌  | 9/12 [03:47<01:14, 24.92s/it]"
     ]
    },
    {
     "name": "stdout",
     "output_type": "stream",
     "text": [
      "[######                                  ] | 16% Completed | 6.49 s"
     ]
    },
    {
     "name": "stderr",
     "output_type": "stream",
     "text": [
      "/Users/aina/anaconda3/envs/atlite/lib/python3.11/site-packages/dask/core.py:121: RuntimeWarning: invalid value encountered in log\n",
      "  return func(*(_execute_task(a, cache) for a in args))\n"
     ]
    },
    {
     "name": "stdout",
     "output_type": "stream",
     "text": [
      "[########################################] | 100% Completed | 24.86 s\n"
     ]
    },
    {
     "name": "stderr",
     "output_type": "stream",
     "text": [
      " 83%|████████▎ | 10/12 [04:14<00:51, 25.52s/it]"
     ]
    },
    {
     "name": "stdout",
     "output_type": "stream",
     "text": [
      "[######                                  ] | 16% Completed | 6.80 s"
     ]
    },
    {
     "name": "stderr",
     "output_type": "stream",
     "text": [
      "/Users/aina/anaconda3/envs/atlite/lib/python3.11/site-packages/dask/core.py:121: RuntimeWarning: invalid value encountered in log\n",
      "  return func(*(_execute_task(a, cache) for a in args))\n"
     ]
    },
    {
     "name": "stdout",
     "output_type": "stream",
     "text": [
      "[########################################] | 100% Completed | 26.24 s\n"
     ]
    },
    {
     "name": "stderr",
     "output_type": "stream",
     "text": [
      " 92%|█████████▏| 11/12 [04:42<00:26, 26.37s/it]"
     ]
    },
    {
     "name": "stdout",
     "output_type": "stream",
     "text": [
      "[######                                  ] | 16% Completed | 7.13 s"
     ]
    },
    {
     "name": "stderr",
     "output_type": "stream",
     "text": [
      "/Users/aina/anaconda3/envs/atlite/lib/python3.11/site-packages/dask/core.py:121: RuntimeWarning: invalid value encountered in log\n",
      "  return func(*(_execute_task(a, cache) for a in args))\n"
     ]
    },
    {
     "name": "stdout",
     "output_type": "stream",
     "text": [
      "[########################################] | 100% Completed | 27.75 s\n"
     ]
    },
    {
     "name": "stderr",
     "output_type": "stream",
     "text": [
      "100%|██████████| 12/12 [05:13<00:00, 26.10s/it]\n"
     ]
    }
   ],
   "source": [
    "pv_cf, pv_gen, pv_ic = get_cf_series_atlite(cutout_ie=cutout_ie, df_capacity=df_capacity_solar, panel_model='KANENA', only_cf=False)"
   ]
  },
  {
   "cell_type": "code",
   "execution_count": 35,
   "metadata": {},
   "outputs": [],
   "source": [
    "pv_cf.to_netcdf('../data/pv_2030_cf_1940_2023.nc')"
   ]
  }
 ],
 "metadata": {
  "kernelspec": {
   "display_name": "atlite",
   "language": "python",
   "name": "python3"
  },
  "language_info": {
   "codemirror_mode": {
    "name": "ipython",
    "version": 3
   },
   "file_extension": ".py",
   "mimetype": "text/x-python",
   "name": "python",
   "nbconvert_exporter": "python",
   "pygments_lexer": "ipython3",
   "version": "3.11.5"
  }
 },
 "nbformat": 4,
 "nbformat_minor": 2
}

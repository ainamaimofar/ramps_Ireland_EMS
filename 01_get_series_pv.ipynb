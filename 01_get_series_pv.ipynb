{
 "cells": [
  {
   "cell_type": "code",
   "execution_count": 51,
   "metadata": {},
   "outputs": [],
   "source": [
    "import matplotlib.pyplot as plt\n",
    "import xarray as xr\n",
    "import numpy as np\n",
    "import pandas as pd\n",
    "from tqdm import tqdm\n",
    "import atlite"
   ]
  },
  {
   "cell_type": "markdown",
   "metadata": {},
   "source": [
    "The objective of this code is to use the PV model we selected to obtain a long-term PV CF time series that we can store and later use to run our analysis."
   ]
  },
  {
   "cell_type": "markdown",
   "metadata": {},
   "source": [
    "## Necessary steps:\n",
    "\n",
    "Step 1: Load the ERA5 data and create a cutout\n",
    "\n",
    "Step 2: Load the farm data\n",
    "\n",
    "Step 3: Run the atlite PV model for the entire period\n",
    "\n",
    "Step 3: Save the data into a file to use later in the analysis"
   ]
  },
  {
   "cell_type": "markdown",
   "metadata": {},
   "source": [
    "### Step 1: Load the ERA5 data and create a cutout"
   ]
  },
  {
   "cell_type": "markdown",
   "metadata": {},
   "source": [
    "Load the ERA5 data"
   ]
  },
  {
   "cell_type": "code",
   "execution_count": null,
   "metadata": {},
   "outputs": [],
   "source": [
    "ds_temperature_2018_2023 = xr.open_dataset('../data/ERA5/ERA5_2m_temperature_soil_temperature_level_4_hourly_2018_2023.nc')\n",
    "ds_radiation_sfc_2018_2023 = xr.open_dataset('../data/ERA5/ERA5_surface_net_solar_radiation_surface_solar_radiation_downwards_hourly_2018_2023.nc')\n",
    "ds_radiation_toa_2018_2023 = xr.open_dataset('../data/ERA5/ERA5_toa_incident_solar_radiation_total_sky_direct_solar_radiation_at_surface_hourly_2018_2023.nc')\n",
    "\n",
    "ds_temperature_2018_2023 = ds_temperature_2018_2023.reduce(np.nanmean, dim='expver',keep_attrs=True)\n",
    "ds_radiation_sfc_2018_2023 = ds_radiation_sfc_2018_2023.reduce(np.nanmean, dim='expver',keep_attrs=True)\n",
    "ds_radiation_toa_2018_2023 = ds_radiation_toa_2018_2023.reduce(np.nanmean, dim='expver',keep_attrs=True)"
   ]
  },
  {
   "cell_type": "code",
   "execution_count": null,
   "metadata": {},
   "outputs": [],
   "source": [
    "ds_temperature_1988_2017 = xr.open_mfdataset(['../data/ERA5/ERA5_2m_temperature_soil_temperature_level_4_hourly_{}_{}.nc'.format(yy, yy+5) for yy in np.arange(1988, 2013, 6, dtype=int)])\n",
    "ds_radiation_sfc_1988_2017 = xr.open_mfdataset(['../data/ERA5/ERA5_surface_net_solar_radiation_surface_solar_radiation_downwards_hourly_{}_{}.nc'.format(yy, yy+5) for yy in np.arange(1988, 2013, 6, dtype=int)])\n",
    "ds_radiation_toa_1988_2017 = xr.open_mfdataset(['../data/ERA5/ERA5_toa_incident_solar_radiation_total_sky_direct_solar_radiation_at_surface_hourly_{}_{}.nc'.format(yy, yy+5) for yy in np.arange(1988, 2013, 6, dtype=int)])"
   ]
  },
  {
   "cell_type": "code",
   "execution_count": null,
   "metadata": {},
   "outputs": [],
   "source": [
    "list_files_era5_old = []\n",
    "filepath_base = '../data/ERA5/ERA5_all_variables_{}_{:02d}.nc'\n",
    "for year in np.arange(1940,1988, dtype=int):\n",
    "    for month in np.arange(1,13, dtype=int):\n",
    "        list_files_era5_old.append(filepath_base.format(year, month))"
   ]
  },
  {
   "cell_type": "code",
   "execution_count": 55,
   "metadata": {},
   "outputs": [],
   "source": [
    "ds_1940_1987 = xr.open_mfdataset(list_files_era5_old)"
   ]
  },
  {
   "cell_type": "code",
   "execution_count": 56,
   "metadata": {},
   "outputs": [],
   "source": [
    "ds_1940_1987 = ds_1940_1987[['tisr', 'fdir', 'ssr', 'ssrd', 't2m', 'stl4']]"
   ]
  },
  {
   "cell_type": "code",
   "execution_count": 57,
   "metadata": {},
   "outputs": [],
   "source": [
    "ds = xr.concat([ds_1940_1987,\n",
    "                xr.merge([ds_temperature_1988_2017, ds_radiation_sfc_1988_2017, ds_radiation_toa_1988_2017]),\n",
    "                xr.merge([ds_temperature_2018_2023, ds_radiation_sfc_2018_2023, ds_radiation_toa_2018_2023])\n",
    "                ], dim='time')"
   ]
  },
  {
   "cell_type": "code",
   "execution_count": 58,
   "metadata": {},
   "outputs": [],
   "source": [
    "cutout_ie = atlite.cutout.get_cutout_from_era5_data('path', ds, ['influx', 'temperature'])"
   ]
  },
  {
   "cell_type": "markdown",
   "metadata": {},
   "source": [
    "### Step 2: Load the farm data"
   ]
  },
  {
   "cell_type": "code",
   "execution_count": null,
   "metadata": {},
   "outputs": [],
   "source": [
    "# Read csv file located in /Data folder\n",
    "df_capacity_solar = pd.read_csv('../data/202406_solar_capacity_eir_manualfarms.csv', index_col=0)\n",
    "# Rename the columns to fit Atlite\n",
    "df_capacity_solar = df_capacity_solar.dropna().rename(columns={'Capacity (MW)':'MEC', 'latitude':'y', 'longitude':'x'})\n",
    "df_capacity_solar = df_capacity_solar[df_capacity_solar['Connection date'] < '2024']\n",
    "df_capacity_solar['Connection date'] = pd.to_datetime(df_capacity_solar['Connection date'])\n",
    "df_capacity_solar['capacity'] = df_capacity_solar['MEC']*1.4"
   ]
  },
  {
   "cell_type": "markdown",
   "metadata": {},
   "source": [
    "We change the connection date for the large capacities installed in 2023 whose installation date we estimated from the EirGrid data and simulations using this capacity. Namely:\n",
    "\n",
    "- First two IC installations: 2023-04-01 -> \"Rosspile\" (95 MW) and \"Gillinstown\" (95 MW)\n",
    "- Third IC installation: 2023-04-26 -> \"Gallanstown\" (119 MW)\n",
    "- Fourth IC installation: 2023-06-12 -> \"Blundelstown\" (60 MW)"
   ]
  },
  {
   "cell_type": "code",
   "execution_count": 60,
   "metadata": {},
   "outputs": [],
   "source": [
    "# df_capacity_solar.loc['Rosspile', 'Connection date'] = pd.to_datetime('2023-04-01')\n",
    "# df_capacity_solar.loc['Gillinstown', 'Connection date'] = pd.to_datetime('2023-04-01')\n",
    "# df_capacity_solar.loc['Gallanstown', 'Connection date'] = pd.to_datetime('2023-04-26')\n",
    "# df_capacity_solar.loc['Blundelstown', 'Connection date'] = pd.to_datetime('2023-06-12')"
   ]
  },
  {
   "cell_type": "code",
   "execution_count": 61,
   "metadata": {},
   "outputs": [
    {
     "data": {
      "text/html": [
       "<div>\n",
       "<style scoped>\n",
       "    .dataframe tbody tr th:only-of-type {\n",
       "        vertical-align: middle;\n",
       "    }\n",
       "\n",
       "    .dataframe tbody tr th {\n",
       "        vertical-align: top;\n",
       "    }\n",
       "\n",
       "    .dataframe thead th {\n",
       "        text-align: right;\n",
       "    }\n",
       "</style>\n",
       "<table border=\"1\" class=\"dataframe\">\n",
       "  <thead>\n",
       "    <tr style=\"text-align: right;\">\n",
       "      <th></th>\n",
       "      <th>MEC</th>\n",
       "      <th>Connection date</th>\n",
       "      <th>Region</th>\n",
       "      <th>ROI/NI</th>\n",
       "      <th>x</th>\n",
       "      <th>y</th>\n",
       "      <th>capacity</th>\n",
       "    </tr>\n",
       "    <tr>\n",
       "      <th>Name</th>\n",
       "      <th></th>\n",
       "      <th></th>\n",
       "      <th></th>\n",
       "      <th></th>\n",
       "      <th></th>\n",
       "      <th></th>\n",
       "      <th></th>\n",
       "    </tr>\n",
       "  </thead>\n",
       "  <tbody>\n",
       "    <tr>\n",
       "      <th>Hortland PV</th>\n",
       "      <td>14.000</td>\n",
       "      <td>2022-07-01</td>\n",
       "      <td>Dunfirth</td>\n",
       "      <td>ROI</td>\n",
       "      <td>-6.784832</td>\n",
       "      <td>53.382133</td>\n",
       "      <td>19.6000</td>\n",
       "    </tr>\n",
       "    <tr>\n",
       "      <th>Hilltown PV</th>\n",
       "      <td>10.000</td>\n",
       "      <td>2023-04-27</td>\n",
       "      <td>BALTRASNA</td>\n",
       "      <td>ROI</td>\n",
       "      <td>-6.433524</td>\n",
       "      <td>53.579615</td>\n",
       "      <td>14.0000</td>\n",
       "    </tr>\n",
       "    <tr>\n",
       "      <th>Millvale North PV</th>\n",
       "      <td>8.000</td>\n",
       "      <td>2022-04-25</td>\n",
       "      <td>Ballybeg</td>\n",
       "      <td>ROI</td>\n",
       "      <td>-6.107515</td>\n",
       "      <td>52.995926</td>\n",
       "      <td>11.2000</td>\n",
       "    </tr>\n",
       "    <tr>\n",
       "      <th>Davidstown Solar</th>\n",
       "      <td>5.500</td>\n",
       "      <td>2022-10-31</td>\n",
       "      <td>Wexford</td>\n",
       "      <td>ROI</td>\n",
       "      <td>-6.628588</td>\n",
       "      <td>52.471481</td>\n",
       "      <td>7.7000</td>\n",
       "    </tr>\n",
       "    <tr>\n",
       "      <th>Knockglass Solar Farm (Bawnmore extension)</th>\n",
       "      <td>4.000</td>\n",
       "      <td>2022-11-21</td>\n",
       "      <td>Macroom</td>\n",
       "      <td>ROI</td>\n",
       "      <td>-8.914000</td>\n",
       "      <td>51.953417</td>\n",
       "      <td>5.6000</td>\n",
       "    </tr>\n",
       "    <tr>\n",
       "      <th>Curraghmartin Solar Park</th>\n",
       "      <td>3.990</td>\n",
       "      <td>2022-07-26</td>\n",
       "      <td>Waterford</td>\n",
       "      <td>ROI</td>\n",
       "      <td>-7.216795</td>\n",
       "      <td>52.282362</td>\n",
       "      <td>5.5860</td>\n",
       "    </tr>\n",
       "    <tr>\n",
       "      <th>Lurrig Solar Farm</th>\n",
       "      <td>4.200</td>\n",
       "      <td>2022-12-14</td>\n",
       "      <td>Midleton</td>\n",
       "      <td>ROI</td>\n",
       "      <td>-8.160190</td>\n",
       "      <td>51.842968</td>\n",
       "      <td>5.8800</td>\n",
       "    </tr>\n",
       "    <tr>\n",
       "      <th>Lurrig Solar Ext.</th>\n",
       "      <td>0.340</td>\n",
       "      <td>2023-07-21</td>\n",
       "      <td>Midleton</td>\n",
       "      <td>ROI</td>\n",
       "      <td>-8.160190</td>\n",
       "      <td>51.842968</td>\n",
       "      <td>0.4760</td>\n",
       "    </tr>\n",
       "    <tr>\n",
       "      <th>Connacht GAA Solar PV</th>\n",
       "      <td>0.300</td>\n",
       "      <td>2023-03-30</td>\n",
       "      <td>Dalton</td>\n",
       "      <td>ROI</td>\n",
       "      <td>-8.852849</td>\n",
       "      <td>53.774640</td>\n",
       "      <td>0.4200</td>\n",
       "    </tr>\n",
       "    <tr>\n",
       "      <th>Knockfee Farm Rooftop</th>\n",
       "      <td>0.180</td>\n",
       "      <td>2023-04-04</td>\n",
       "      <td>Cahir</td>\n",
       "      <td>ROI</td>\n",
       "      <td>-7.930131</td>\n",
       "      <td>52.467545</td>\n",
       "      <td>0.2520</td>\n",
       "    </tr>\n",
       "    <tr>\n",
       "      <th>Roscrea Leisure Centre</th>\n",
       "      <td>0.120</td>\n",
       "      <td>2022-05-11</td>\n",
       "      <td>IKERRIN</td>\n",
       "      <td>ROI</td>\n",
       "      <td>-7.785919</td>\n",
       "      <td>52.956471</td>\n",
       "      <td>0.1680</td>\n",
       "    </tr>\n",
       "    <tr>\n",
       "      <th>Thurles Leisure Centre Solar</th>\n",
       "      <td>0.100</td>\n",
       "      <td>2022-05-11</td>\n",
       "      <td>THURLES</td>\n",
       "      <td>ROI</td>\n",
       "      <td>-7.809975</td>\n",
       "      <td>52.678445</td>\n",
       "      <td>0.1400</td>\n",
       "    </tr>\n",
       "    <tr>\n",
       "      <th>Hill Top Agri Solar PV</th>\n",
       "      <td>0.070</td>\n",
       "      <td>2023-04-25</td>\n",
       "      <td>BARRYMORE</td>\n",
       "      <td>ROI</td>\n",
       "      <td>-6.974330</td>\n",
       "      <td>54.226066</td>\n",
       "      <td>0.0980</td>\n",
       "    </tr>\n",
       "    <tr>\n",
       "      <th>Gorey Solar</th>\n",
       "      <td>5.990</td>\n",
       "      <td>2023-09-06</td>\n",
       "      <td>BANOGE</td>\n",
       "      <td>ROI</td>\n",
       "      <td>-6.271021</td>\n",
       "      <td>52.647404</td>\n",
       "      <td>8.3860</td>\n",
       "    </tr>\n",
       "    <tr>\n",
       "      <th>Ballinderry Road (Lisburn Solar Park )</th>\n",
       "      <td>16.920</td>\n",
       "      <td>2017-02-27</td>\n",
       "      <td>Lisburn Main</td>\n",
       "      <td>NI</td>\n",
       "      <td>-6.106108</td>\n",
       "      <td>54.517674</td>\n",
       "      <td>23.6880</td>\n",
       "    </tr>\n",
       "    <tr>\n",
       "      <th>Ballyboley (Solar Farm)</th>\n",
       "      <td>4.990</td>\n",
       "      <td>2017-02-01</td>\n",
       "      <td>Newtownards Main</td>\n",
       "      <td>NI</td>\n",
       "      <td>-5.569721</td>\n",
       "      <td>54.571424</td>\n",
       "      <td>6.9860</td>\n",
       "    </tr>\n",
       "    <tr>\n",
       "      <th>Ballygarvey Road Solar Park</th>\n",
       "      <td>7.106</td>\n",
       "      <td>2018-03-23</td>\n",
       "      <td>Ballymena Main</td>\n",
       "      <td>NI</td>\n",
       "      <td>-6.251817</td>\n",
       "      <td>54.882735</td>\n",
       "      <td>9.9484</td>\n",
       "    </tr>\n",
       "    <tr>\n",
       "      <th>Bann Road PV Farm</th>\n",
       "      <td>35.712</td>\n",
       "      <td>2017-03-15</td>\n",
       "      <td>Rasharkin Main</td>\n",
       "      <td>NI</td>\n",
       "      <td>-6.501521</td>\n",
       "      <td>54.963599</td>\n",
       "      <td>49.9968</td>\n",
       "    </tr>\n",
       "    <tr>\n",
       "      <th>Dunore Point solar PV Farm</th>\n",
       "      <td>4.995</td>\n",
       "      <td>2018-03-07</td>\n",
       "      <td>Antrim Main</td>\n",
       "      <td>NI</td>\n",
       "      <td>-6.230701</td>\n",
       "      <td>54.680976</td>\n",
       "      <td>6.9930</td>\n",
       "    </tr>\n",
       "    <tr>\n",
       "      <th>Finvoy Road Solar Farm</th>\n",
       "      <td>5.364</td>\n",
       "      <td>2017-11-17</td>\n",
       "      <td>Rasharkin Main</td>\n",
       "      <td>NI</td>\n",
       "      <td>-6.492737</td>\n",
       "      <td>54.962397</td>\n",
       "      <td>7.5096</td>\n",
       "    </tr>\n",
       "    <tr>\n",
       "      <th>Gibson Farm PV</th>\n",
       "      <td>6.400</td>\n",
       "      <td>2018-03-01</td>\n",
       "      <td>Glengormley Main</td>\n",
       "      <td>NI</td>\n",
       "      <td>-6.015033</td>\n",
       "      <td>54.675432</td>\n",
       "      <td>8.9600</td>\n",
       "    </tr>\n",
       "    <tr>\n",
       "      <th>Laurel Hill Road Solar Park</th>\n",
       "      <td>9.000</td>\n",
       "      <td>2018-02-16</td>\n",
       "      <td>Waringstown Main</td>\n",
       "      <td>NI</td>\n",
       "      <td>-6.266651</td>\n",
       "      <td>54.402126</td>\n",
       "      <td>12.6000</td>\n",
       "    </tr>\n",
       "    <tr>\n",
       "      <th>Lough Road PV Farm</th>\n",
       "      <td>25.200</td>\n",
       "      <td>2017-03-03</td>\n",
       "      <td>Lisburn Main</td>\n",
       "      <td>NI</td>\n",
       "      <td>-6.187988</td>\n",
       "      <td>54.556332</td>\n",
       "      <td>35.2800</td>\n",
       "    </tr>\n",
       "    <tr>\n",
       "      <th>Maghaberry Road Solar Farm</th>\n",
       "      <td>22.800</td>\n",
       "      <td>2018-01-31</td>\n",
       "      <td>Lisburn Main</td>\n",
       "      <td>NI</td>\n",
       "      <td>-6.176210</td>\n",
       "      <td>54.514423</td>\n",
       "      <td>31.9200</td>\n",
       "    </tr>\n",
       "    <tr>\n",
       "      <th>Millar Farm PV</th>\n",
       "      <td>6.270</td>\n",
       "      <td>2017-02-27</td>\n",
       "      <td>Antrim Main</td>\n",
       "      <td>NI</td>\n",
       "      <td>-6.251026</td>\n",
       "      <td>54.742574</td>\n",
       "      <td>8.7780</td>\n",
       "    </tr>\n",
       "    <tr>\n",
       "      <th>Ballyculane 01</th>\n",
       "      <td>4.000</td>\n",
       "      <td>2022-10-05</td>\n",
       "      <td>Great Island</td>\n",
       "      <td>ROI</td>\n",
       "      <td>-6.845284</td>\n",
       "      <td>52.267802</td>\n",
       "      <td>5.6000</td>\n",
       "    </tr>\n",
       "    <tr>\n",
       "      <th>Ballyculane 02</th>\n",
       "      <td>1.000</td>\n",
       "      <td>2023-05-25</td>\n",
       "      <td>Great Island</td>\n",
       "      <td>ROI</td>\n",
       "      <td>-6.845284</td>\n",
       "      <td>52.267802</td>\n",
       "      <td>1.4000</td>\n",
       "    </tr>\n",
       "    <tr>\n",
       "      <th>Blusheens 01</th>\n",
       "      <td>5.000</td>\n",
       "      <td>2022-08-20</td>\n",
       "      <td>Wexford</td>\n",
       "      <td>ROI</td>\n",
       "      <td>-6.421016</td>\n",
       "      <td>52.250274</td>\n",
       "      <td>7.0000</td>\n",
       "    </tr>\n",
       "    <tr>\n",
       "      <th>Blusheens 02</th>\n",
       "      <td>3.000</td>\n",
       "      <td>2023-05-25</td>\n",
       "      <td>Wexford</td>\n",
       "      <td>ROI</td>\n",
       "      <td>-6.421016</td>\n",
       "      <td>52.250274</td>\n",
       "      <td>4.2000</td>\n",
       "    </tr>\n",
       "    <tr>\n",
       "      <th>Blundelstown 01</th>\n",
       "      <td>13.800</td>\n",
       "      <td>2023-09-07</td>\n",
       "      <td>Meath</td>\n",
       "      <td>ROI</td>\n",
       "      <td>-6.803400</td>\n",
       "      <td>53.874300</td>\n",
       "      <td>19.3200</td>\n",
       "    </tr>\n",
       "    <tr>\n",
       "      <th>Blundelstown 02</th>\n",
       "      <td>29.000</td>\n",
       "      <td>2023-09-18</td>\n",
       "      <td>Meath</td>\n",
       "      <td>ROI</td>\n",
       "      <td>-6.803400</td>\n",
       "      <td>53.874300</td>\n",
       "      <td>40.6000</td>\n",
       "    </tr>\n",
       "    <tr>\n",
       "      <th>Blundelstown 03</th>\n",
       "      <td>12.200</td>\n",
       "      <td>2023-09-28</td>\n",
       "      <td>Meath</td>\n",
       "      <td>ROI</td>\n",
       "      <td>-6.803400</td>\n",
       "      <td>53.874300</td>\n",
       "      <td>17.0800</td>\n",
       "    </tr>\n",
       "    <tr>\n",
       "      <th>Blundelstown 04</th>\n",
       "      <td>5.000</td>\n",
       "      <td>2023-10-12</td>\n",
       "      <td>Meath</td>\n",
       "      <td>ROI</td>\n",
       "      <td>-6.803400</td>\n",
       "      <td>53.874300</td>\n",
       "      <td>7.0000</td>\n",
       "    </tr>\n",
       "    <tr>\n",
       "      <th>Rosspile 01</th>\n",
       "      <td>19.230</td>\n",
       "      <td>2023-01-01</td>\n",
       "      <td>Wexford</td>\n",
       "      <td>ROI</td>\n",
       "      <td>-6.745934</td>\n",
       "      <td>52.303835</td>\n",
       "      <td>26.9220</td>\n",
       "    </tr>\n",
       "    <tr>\n",
       "      <th>Rosspile 02</th>\n",
       "      <td>26.770</td>\n",
       "      <td>2023-01-25</td>\n",
       "      <td>Wexford</td>\n",
       "      <td>ROI</td>\n",
       "      <td>-6.745934</td>\n",
       "      <td>52.303835</td>\n",
       "      <td>37.4780</td>\n",
       "    </tr>\n",
       "    <tr>\n",
       "      <th>Rosspile 03</th>\n",
       "      <td>10.000</td>\n",
       "      <td>2023-02-09</td>\n",
       "      <td>Wexford</td>\n",
       "      <td>ROI</td>\n",
       "      <td>-6.745934</td>\n",
       "      <td>52.303835</td>\n",
       "      <td>14.0000</td>\n",
       "    </tr>\n",
       "    <tr>\n",
       "      <th>Rosspile 04</th>\n",
       "      <td>30.000</td>\n",
       "      <td>2023-02-15</td>\n",
       "      <td>Wexford</td>\n",
       "      <td>ROI</td>\n",
       "      <td>-6.745934</td>\n",
       "      <td>52.303835</td>\n",
       "      <td>42.0000</td>\n",
       "    </tr>\n",
       "    <tr>\n",
       "      <th>Rosspile 05</th>\n",
       "      <td>9.000</td>\n",
       "      <td>2023-04-06</td>\n",
       "      <td>Wexford</td>\n",
       "      <td>ROI</td>\n",
       "      <td>-6.745934</td>\n",
       "      <td>52.303835</td>\n",
       "      <td>12.6000</td>\n",
       "    </tr>\n",
       "    <tr>\n",
       "      <th>Gillinstown 01</th>\n",
       "      <td>20.000</td>\n",
       "      <td>2023-01-01</td>\n",
       "      <td>Meath</td>\n",
       "      <td>ROI</td>\n",
       "      <td>-6.454107</td>\n",
       "      <td>53.652308</td>\n",
       "      <td>28.0000</td>\n",
       "    </tr>\n",
       "    <tr>\n",
       "      <th>Gillinstown 02</th>\n",
       "      <td>18.100</td>\n",
       "      <td>2023-02-04</td>\n",
       "      <td>Meath</td>\n",
       "      <td>ROI</td>\n",
       "      <td>-6.454107</td>\n",
       "      <td>53.652308</td>\n",
       "      <td>25.3400</td>\n",
       "    </tr>\n",
       "    <tr>\n",
       "      <th>Gillinstown 03</th>\n",
       "      <td>36.900</td>\n",
       "      <td>2023-04-03</td>\n",
       "      <td>Meath</td>\n",
       "      <td>ROI</td>\n",
       "      <td>-6.454107</td>\n",
       "      <td>53.652308</td>\n",
       "      <td>51.6600</td>\n",
       "    </tr>\n",
       "    <tr>\n",
       "      <th>Gillinstown 04</th>\n",
       "      <td>20.000</td>\n",
       "      <td>2023-04-30</td>\n",
       "      <td>Meath</td>\n",
       "      <td>ROI</td>\n",
       "      <td>-6.454107</td>\n",
       "      <td>53.652308</td>\n",
       "      <td>28.0000</td>\n",
       "    </tr>\n",
       "    <tr>\n",
       "      <th>Gallanstown 01</th>\n",
       "      <td>5.770</td>\n",
       "      <td>2023-01-01</td>\n",
       "      <td>Meath</td>\n",
       "      <td>ROI</td>\n",
       "      <td>-6.366217</td>\n",
       "      <td>53.449571</td>\n",
       "      <td>8.0780</td>\n",
       "    </tr>\n",
       "    <tr>\n",
       "      <th>Gallanstown 02</th>\n",
       "      <td>6.230</td>\n",
       "      <td>2023-01-27</td>\n",
       "      <td>Meath</td>\n",
       "      <td>ROI</td>\n",
       "      <td>-6.366217</td>\n",
       "      <td>53.449571</td>\n",
       "      <td>8.7220</td>\n",
       "    </tr>\n",
       "    <tr>\n",
       "      <th>Gallanstown 03</th>\n",
       "      <td>11.870</td>\n",
       "      <td>2023-02-22</td>\n",
       "      <td>Meath</td>\n",
       "      <td>ROI</td>\n",
       "      <td>-6.366217</td>\n",
       "      <td>53.449571</td>\n",
       "      <td>16.6180</td>\n",
       "    </tr>\n",
       "    <tr>\n",
       "      <th>Gallanstown 04</th>\n",
       "      <td>3.130</td>\n",
       "      <td>2023-04-02</td>\n",
       "      <td>Meath</td>\n",
       "      <td>ROI</td>\n",
       "      <td>-6.366217</td>\n",
       "      <td>53.449571</td>\n",
       "      <td>4.3820</td>\n",
       "    </tr>\n",
       "    <tr>\n",
       "      <th>Gallanstown 05</th>\n",
       "      <td>8.200</td>\n",
       "      <td>2023-04-19</td>\n",
       "      <td>Meath</td>\n",
       "      <td>ROI</td>\n",
       "      <td>-6.366217</td>\n",
       "      <td>53.449571</td>\n",
       "      <td>11.4800</td>\n",
       "    </tr>\n",
       "    <tr>\n",
       "      <th>Gallanstown 06</th>\n",
       "      <td>-20.000</td>\n",
       "      <td>2023-06-01</td>\n",
       "      <td>Meath</td>\n",
       "      <td>ROI</td>\n",
       "      <td>-6.366217</td>\n",
       "      <td>53.449571</td>\n",
       "      <td>-28.0000</td>\n",
       "    </tr>\n",
       "    <tr>\n",
       "      <th>Gallanstown 07</th>\n",
       "      <td>92.900</td>\n",
       "      <td>2023-06-07</td>\n",
       "      <td>Meath</td>\n",
       "      <td>ROI</td>\n",
       "      <td>-6.366217</td>\n",
       "      <td>53.449571</td>\n",
       "      <td>130.0600</td>\n",
       "    </tr>\n",
       "  </tbody>\n",
       "</table>\n",
       "</div>"
      ],
      "text/plain": [
       "                                               MEC Connection date  \\\n",
       "Name                                                                 \n",
       "Hortland PV                                 14.000      2022-07-01   \n",
       "Hilltown PV                                 10.000      2023-04-27   \n",
       "Millvale North PV                            8.000      2022-04-25   \n",
       "Davidstown Solar                             5.500      2022-10-31   \n",
       "Knockglass Solar Farm (Bawnmore extension)   4.000      2022-11-21   \n",
       "Curraghmartin Solar Park                     3.990      2022-07-26   \n",
       "Lurrig Solar Farm                            4.200      2022-12-14   \n",
       "Lurrig Solar Ext.                            0.340      2023-07-21   \n",
       "Connacht GAA Solar PV                        0.300      2023-03-30   \n",
       "Knockfee Farm Rooftop                        0.180      2023-04-04   \n",
       "Roscrea Leisure Centre                       0.120      2022-05-11   \n",
       "Thurles Leisure Centre Solar                 0.100      2022-05-11   \n",
       "Hill Top Agri Solar PV                       0.070      2023-04-25   \n",
       "Gorey Solar                                  5.990      2023-09-06   \n",
       "Ballinderry Road (Lisburn Solar Park )      16.920      2017-02-27   \n",
       "Ballyboley (Solar Farm)                      4.990      2017-02-01   \n",
       "Ballygarvey Road Solar Park                  7.106      2018-03-23   \n",
       "Bann Road PV Farm                           35.712      2017-03-15   \n",
       "Dunore Point solar PV Farm                   4.995      2018-03-07   \n",
       "Finvoy Road Solar Farm                       5.364      2017-11-17   \n",
       "Gibson Farm PV                               6.400      2018-03-01   \n",
       "Laurel Hill Road Solar Park                  9.000      2018-02-16   \n",
       "Lough Road PV Farm                          25.200      2017-03-03   \n",
       "Maghaberry Road Solar Farm                  22.800      2018-01-31   \n",
       "Millar Farm PV                               6.270      2017-02-27   \n",
       "Ballyculane 01                               4.000      2022-10-05   \n",
       "Ballyculane 02                               1.000      2023-05-25   \n",
       "Blusheens 01                                 5.000      2022-08-20   \n",
       "Blusheens 02                                 3.000      2023-05-25   \n",
       "Blundelstown 01                             13.800      2023-09-07   \n",
       "Blundelstown 02                             29.000      2023-09-18   \n",
       "Blundelstown 03                             12.200      2023-09-28   \n",
       "Blundelstown 04                              5.000      2023-10-12   \n",
       "Rosspile 01                                 19.230      2023-01-01   \n",
       "Rosspile 02                                 26.770      2023-01-25   \n",
       "Rosspile 03                                 10.000      2023-02-09   \n",
       "Rosspile 04                                 30.000      2023-02-15   \n",
       "Rosspile 05                                  9.000      2023-04-06   \n",
       "Gillinstown 01                              20.000      2023-01-01   \n",
       "Gillinstown 02                              18.100      2023-02-04   \n",
       "Gillinstown 03                              36.900      2023-04-03   \n",
       "Gillinstown 04                              20.000      2023-04-30   \n",
       "Gallanstown 01                               5.770      2023-01-01   \n",
       "Gallanstown 02                               6.230      2023-01-27   \n",
       "Gallanstown 03                              11.870      2023-02-22   \n",
       "Gallanstown 04                               3.130      2023-04-02   \n",
       "Gallanstown 05                               8.200      2023-04-19   \n",
       "Gallanstown 06                             -20.000      2023-06-01   \n",
       "Gallanstown 07                              92.900      2023-06-07   \n",
       "\n",
       "                                                      Region ROI/NI         x  \\\n",
       "Name                                                                            \n",
       "Hortland PV                                         Dunfirth    ROI -6.784832   \n",
       "Hilltown PV                                        BALTRASNA    ROI -6.433524   \n",
       "Millvale North PV                                   Ballybeg    ROI -6.107515   \n",
       "Davidstown Solar                                     Wexford    ROI -6.628588   \n",
       "Knockglass Solar Farm (Bawnmore extension)           Macroom    ROI -8.914000   \n",
       "Curraghmartin Solar Park                           Waterford    ROI -7.216795   \n",
       "Lurrig Solar Farm                                   Midleton    ROI -8.160190   \n",
       "Lurrig Solar Ext.                                   Midleton    ROI -8.160190   \n",
       "Connacht GAA Solar PV                                 Dalton    ROI -8.852849   \n",
       "Knockfee Farm Rooftop                                  Cahir    ROI -7.930131   \n",
       "Roscrea Leisure Centre                               IKERRIN    ROI -7.785919   \n",
       "Thurles Leisure Centre Solar                         THURLES    ROI -7.809975   \n",
       "Hill Top Agri Solar PV                             BARRYMORE    ROI -6.974330   \n",
       "Gorey Solar                                           BANOGE    ROI -6.271021   \n",
       "Ballinderry Road (Lisburn Solar Park )          Lisburn Main     NI -6.106108   \n",
       "Ballyboley (Solar Farm)                     Newtownards Main     NI -5.569721   \n",
       "Ballygarvey Road Solar Park                   Ballymena Main     NI -6.251817   \n",
       "Bann Road PV Farm                             Rasharkin Main     NI -6.501521   \n",
       "Dunore Point solar PV Farm                       Antrim Main     NI -6.230701   \n",
       "Finvoy Road Solar Farm                        Rasharkin Main     NI -6.492737   \n",
       "Gibson Farm PV                              Glengormley Main     NI -6.015033   \n",
       "Laurel Hill Road Solar Park                 Waringstown Main     NI -6.266651   \n",
       "Lough Road PV Farm                              Lisburn Main     NI -6.187988   \n",
       "Maghaberry Road Solar Farm                      Lisburn Main     NI -6.176210   \n",
       "Millar Farm PV                                   Antrim Main     NI -6.251026   \n",
       "Ballyculane 01                                  Great Island    ROI -6.845284   \n",
       "Ballyculane 02                                  Great Island    ROI -6.845284   \n",
       "Blusheens 01                                         Wexford    ROI -6.421016   \n",
       "Blusheens 02                                         Wexford    ROI -6.421016   \n",
       "Blundelstown 01                                        Meath    ROI -6.803400   \n",
       "Blundelstown 02                                        Meath    ROI -6.803400   \n",
       "Blundelstown 03                                        Meath    ROI -6.803400   \n",
       "Blundelstown 04                                        Meath    ROI -6.803400   \n",
       "Rosspile 01                                          Wexford    ROI -6.745934   \n",
       "Rosspile 02                                          Wexford    ROI -6.745934   \n",
       "Rosspile 03                                          Wexford    ROI -6.745934   \n",
       "Rosspile 04                                          Wexford    ROI -6.745934   \n",
       "Rosspile 05                                          Wexford    ROI -6.745934   \n",
       "Gillinstown 01                                         Meath    ROI -6.454107   \n",
       "Gillinstown 02                                         Meath    ROI -6.454107   \n",
       "Gillinstown 03                                         Meath    ROI -6.454107   \n",
       "Gillinstown 04                                         Meath    ROI -6.454107   \n",
       "Gallanstown 01                                         Meath    ROI -6.366217   \n",
       "Gallanstown 02                                         Meath    ROI -6.366217   \n",
       "Gallanstown 03                                         Meath    ROI -6.366217   \n",
       "Gallanstown 04                                         Meath    ROI -6.366217   \n",
       "Gallanstown 05                                         Meath    ROI -6.366217   \n",
       "Gallanstown 06                                         Meath    ROI -6.366217   \n",
       "Gallanstown 07                                         Meath    ROI -6.366217   \n",
       "\n",
       "                                                    y  capacity  \n",
       "Name                                                             \n",
       "Hortland PV                                 53.382133   19.6000  \n",
       "Hilltown PV                                 53.579615   14.0000  \n",
       "Millvale North PV                           52.995926   11.2000  \n",
       "Davidstown Solar                            52.471481    7.7000  \n",
       "Knockglass Solar Farm (Bawnmore extension)  51.953417    5.6000  \n",
       "Curraghmartin Solar Park                    52.282362    5.5860  \n",
       "Lurrig Solar Farm                           51.842968    5.8800  \n",
       "Lurrig Solar Ext.                           51.842968    0.4760  \n",
       "Connacht GAA Solar PV                       53.774640    0.4200  \n",
       "Knockfee Farm Rooftop                       52.467545    0.2520  \n",
       "Roscrea Leisure Centre                      52.956471    0.1680  \n",
       "Thurles Leisure Centre Solar                52.678445    0.1400  \n",
       "Hill Top Agri Solar PV                      54.226066    0.0980  \n",
       "Gorey Solar                                 52.647404    8.3860  \n",
       "Ballinderry Road (Lisburn Solar Park )      54.517674   23.6880  \n",
       "Ballyboley (Solar Farm)                     54.571424    6.9860  \n",
       "Ballygarvey Road Solar Park                 54.882735    9.9484  \n",
       "Bann Road PV Farm                           54.963599   49.9968  \n",
       "Dunore Point solar PV Farm                  54.680976    6.9930  \n",
       "Finvoy Road Solar Farm                      54.962397    7.5096  \n",
       "Gibson Farm PV                              54.675432    8.9600  \n",
       "Laurel Hill Road Solar Park                 54.402126   12.6000  \n",
       "Lough Road PV Farm                          54.556332   35.2800  \n",
       "Maghaberry Road Solar Farm                  54.514423   31.9200  \n",
       "Millar Farm PV                              54.742574    8.7780  \n",
       "Ballyculane 01                              52.267802    5.6000  \n",
       "Ballyculane 02                              52.267802    1.4000  \n",
       "Blusheens 01                                52.250274    7.0000  \n",
       "Blusheens 02                                52.250274    4.2000  \n",
       "Blundelstown 01                             53.874300   19.3200  \n",
       "Blundelstown 02                             53.874300   40.6000  \n",
       "Blundelstown 03                             53.874300   17.0800  \n",
       "Blundelstown 04                             53.874300    7.0000  \n",
       "Rosspile 01                                 52.303835   26.9220  \n",
       "Rosspile 02                                 52.303835   37.4780  \n",
       "Rosspile 03                                 52.303835   14.0000  \n",
       "Rosspile 04                                 52.303835   42.0000  \n",
       "Rosspile 05                                 52.303835   12.6000  \n",
       "Gillinstown 01                              53.652308   28.0000  \n",
       "Gillinstown 02                              53.652308   25.3400  \n",
       "Gillinstown 03                              53.652308   51.6600  \n",
       "Gillinstown 04                              53.652308   28.0000  \n",
       "Gallanstown 01                              53.449571    8.0780  \n",
       "Gallanstown 02                              53.449571    8.7220  \n",
       "Gallanstown 03                              53.449571   16.6180  \n",
       "Gallanstown 04                              53.449571    4.3820  \n",
       "Gallanstown 05                              53.449571   11.4800  \n",
       "Gallanstown 06                              53.449571  -28.0000  \n",
       "Gallanstown 07                              53.449571  130.0600  "
      ]
     },
     "execution_count": 61,
     "metadata": {},
     "output_type": "execute_result"
    }
   ],
   "source": [
    "df_capacity_solar"
   ]
  },
  {
   "cell_type": "markdown",
   "metadata": {},
   "source": [
    "### Step 3: Run atlite"
   ]
  },
  {
   "cell_type": "code",
   "execution_count": 62,
   "metadata": {},
   "outputs": [],
   "source": [
    "def get_cf_series_atlite(cutout_ie: atlite.Cutout, df_capacity: pd.DataFrame, panel_model: str, only_cf: bool = True):\n",
    "    summed_time_series = np.zeros(cutout_ie.data['time'].shape)\n",
    "    total_capacity_time_series  = np.zeros(cutout_ie.data['time'].shape)\n",
    "\n",
    "    # Iterate over all capacity installations\n",
    "    for idx, row in tqdm(df_capacity.reset_index().iterrows(), total= df_capacity.shape[0]):\n",
    "        cap = row['capacity']\n",
    "        mec = row['MEC']\n",
    "        df_capacity_i = pd.DataFrame([row])\n",
    "        layout = cutout_ie.layout_from_capacity_list(df_capacity_i, col=\"capacity\")\n",
    "\n",
    "        time_series = cutout_ie.pv(layout=layout,\n",
    "                                    panel=atlite.convert.get_solarpanelconfig(panel_model),\n",
    "                                    orientation=atlite.convert.get_orientation('latitude_optimal'),\n",
    "                                    tracking=None)\n",
    "\n",
    "        time_series = time_series.squeeze()\n",
    "        time_series[time_series>mec] = mec\n",
    "\n",
    "        capacity_time_series = time_series.copy()\n",
    "        capacity_time_series[:] = mec\n",
    "\n",
    "    # Add the mean CF time series to the total multiplied by the capacity (weight)\n",
    "        summed_time_series += time_series[:]\n",
    "        total_capacity_time_series += capacity_time_series[:]\n",
    "\n",
    "    # Divide the total time series by the total IC to go back to CF\n",
    "    cf_time_series = summed_time_series/total_capacity_time_series\n",
    "    if only_cf:\n",
    "        return cf_time_series\n",
    "    return cf_time_series, summed_time_series, total_capacity_time_series"
   ]
  },
  {
   "cell_type": "code",
   "execution_count": null,
   "metadata": {},
   "outputs": [],
   "source": []
  },
  {
   "cell_type": "code",
   "execution_count": 63,
   "metadata": {},
   "outputs": [
    {
     "name": "stderr",
     "output_type": "stream",
     "text": [
      "  0%|          | 0/49 [00:00<?, ?it/s]"
     ]
    },
    {
     "name": "stdout",
     "output_type": "stream",
     "text": [
      "[#######                                 ] | 19% Completed | 6.79 s"
     ]
    },
    {
     "name": "stderr",
     "output_type": "stream",
     "text": [
      "/Users/aina/anaconda3/envs/atlite/lib/python3.11/site-packages/dask/core.py:121: RuntimeWarning: invalid value encountered in log\n",
      "  return func(*(_execute_task(a, cache) for a in args))\n"
     ]
    },
    {
     "name": "stdout",
     "output_type": "stream",
     "text": [
      "[########################################] | 100% Completed | 23.35 s\n"
     ]
    },
    {
     "name": "stderr",
     "output_type": "stream",
     "text": [
      "  2%|▏         | 1/49 [00:25<20:18, 25.38s/it]"
     ]
    },
    {
     "name": "stdout",
     "output_type": "stream",
     "text": [
      "[#######                                 ] | 19% Completed | 6.67 s"
     ]
    },
    {
     "name": "stderr",
     "output_type": "stream",
     "text": [
      "/Users/aina/anaconda3/envs/atlite/lib/python3.11/site-packages/dask/core.py:121: RuntimeWarning: invalid value encountered in log\n",
      "  return func(*(_execute_task(a, cache) for a in args))\n"
     ]
    },
    {
     "name": "stdout",
     "output_type": "stream",
     "text": [
      "[########################################] | 100% Completed | 23.67 s\n"
     ]
    },
    {
     "name": "stderr",
     "output_type": "stream",
     "text": [
      "  4%|▍         | 2/49 [00:50<19:59, 25.51s/it]"
     ]
    },
    {
     "name": "stdout",
     "output_type": "stream",
     "text": [
      "[#######                                 ] | 19% Completed | 7.77 s"
     ]
    },
    {
     "name": "stderr",
     "output_type": "stream",
     "text": [
      "/Users/aina/anaconda3/envs/atlite/lib/python3.11/site-packages/dask/core.py:121: RuntimeWarning: invalid value encountered in log\n",
      "  return func(*(_execute_task(a, cache) for a in args))\n"
     ]
    },
    {
     "name": "stdout",
     "output_type": "stream",
     "text": [
      "[########################################] | 100% Completed | 23.79 s\n"
     ]
    },
    {
     "name": "stderr",
     "output_type": "stream",
     "text": [
      "  6%|▌         | 3/49 [01:16<19:37, 25.60s/it]"
     ]
    },
    {
     "name": "stdout",
     "output_type": "stream",
     "text": [
      "[#######                                 ] | 19% Completed | 7.38 s"
     ]
    },
    {
     "name": "stderr",
     "output_type": "stream",
     "text": [
      "/Users/aina/anaconda3/envs/atlite/lib/python3.11/site-packages/dask/core.py:121: RuntimeWarning: invalid value encountered in log\n",
      "  return func(*(_execute_task(a, cache) for a in args))\n"
     ]
    },
    {
     "name": "stdout",
     "output_type": "stream",
     "text": [
      "[########################################] | 100% Completed | 23.56 s\n"
     ]
    },
    {
     "name": "stderr",
     "output_type": "stream",
     "text": [
      "  8%|▊         | 4/49 [01:42<19:08, 25.52s/it]"
     ]
    },
    {
     "name": "stdout",
     "output_type": "stream",
     "text": [
      "[#######                                 ] | 19% Completed | 6.67 s"
     ]
    },
    {
     "name": "stderr",
     "output_type": "stream",
     "text": [
      "/Users/aina/anaconda3/envs/atlite/lib/python3.11/site-packages/dask/core.py:121: RuntimeWarning: invalid value encountered in log\n",
      "  return func(*(_execute_task(a, cache) for a in args))\n"
     ]
    },
    {
     "name": "stdout",
     "output_type": "stream",
     "text": [
      "[########################################] | 100% Completed | 22.78 s\n"
     ]
    },
    {
     "name": "stderr",
     "output_type": "stream",
     "text": [
      " 10%|█         | 5/49 [02:06<18:32, 25.28s/it]"
     ]
    },
    {
     "name": "stdout",
     "output_type": "stream",
     "text": [
      "[#######                                 ] | 19% Completed | 6.74 s"
     ]
    },
    {
     "name": "stderr",
     "output_type": "stream",
     "text": [
      "/Users/aina/anaconda3/envs/atlite/lib/python3.11/site-packages/dask/core.py:121: RuntimeWarning: invalid value encountered in log\n",
      "  return func(*(_execute_task(a, cache) for a in args))\n"
     ]
    },
    {
     "name": "stdout",
     "output_type": "stream",
     "text": [
      "[########################################] | 100% Completed | 22.57 s\n"
     ]
    },
    {
     "name": "stderr",
     "output_type": "stream",
     "text": [
      " 12%|█▏        | 6/49 [02:31<17:54, 24.99s/it]"
     ]
    },
    {
     "name": "stdout",
     "output_type": "stream",
     "text": [
      "[#######                                 ] | 19% Completed | 6.73 s"
     ]
    },
    {
     "name": "stderr",
     "output_type": "stream",
     "text": [
      "/Users/aina/anaconda3/envs/atlite/lib/python3.11/site-packages/dask/core.py:121: RuntimeWarning: invalid value encountered in log\n",
      "  return func(*(_execute_task(a, cache) for a in args))\n"
     ]
    },
    {
     "name": "stdout",
     "output_type": "stream",
     "text": [
      "[########################################] | 100% Completed | 22.93 s\n"
     ]
    },
    {
     "name": "stderr",
     "output_type": "stream",
     "text": [
      " 14%|█▍        | 7/49 [02:56<17:27, 24.93s/it]"
     ]
    },
    {
     "name": "stdout",
     "output_type": "stream",
     "text": [
      "[#######                                 ] | 19% Completed | 7.73 s"
     ]
    },
    {
     "name": "stderr",
     "output_type": "stream",
     "text": [
      "/Users/aina/anaconda3/envs/atlite/lib/python3.11/site-packages/dask/core.py:121: RuntimeWarning: invalid value encountered in log\n",
      "  return func(*(_execute_task(a, cache) for a in args))\n"
     ]
    },
    {
     "name": "stdout",
     "output_type": "stream",
     "text": [
      "[########################################] | 100% Completed | 33.18 s\n"
     ]
    },
    {
     "name": "stderr",
     "output_type": "stream",
     "text": [
      " 16%|█▋        | 8/49 [03:31<19:15, 28.19s/it]"
     ]
    },
    {
     "name": "stdout",
     "output_type": "stream",
     "text": [
      "[#######                                 ] | 19% Completed | 11.45 s"
     ]
    },
    {
     "name": "stderr",
     "output_type": "stream",
     "text": [
      "/Users/aina/anaconda3/envs/atlite/lib/python3.11/site-packages/dask/core.py:121: RuntimeWarning: invalid value encountered in log\n",
      "  return func(*(_execute_task(a, cache) for a in args))\n"
     ]
    },
    {
     "name": "stdout",
     "output_type": "stream",
     "text": [
      "[########################################] | 100% Completed | 42.72 s\n"
     ]
    },
    {
     "name": "stderr",
     "output_type": "stream",
     "text": [
      " 18%|█▊        | 9/49 [04:16<22:25, 33.63s/it]"
     ]
    },
    {
     "name": "stdout",
     "output_type": "stream",
     "text": [
      "[#######                                 ] | 18% Completed | 12.61 s"
     ]
    },
    {
     "name": "stderr",
     "output_type": "stream",
     "text": [
      "/Users/aina/anaconda3/envs/atlite/lib/python3.11/site-packages/dask/core.py:121: RuntimeWarning: invalid value encountered in log\n",
      "  return func(*(_execute_task(a, cache) for a in args))\n"
     ]
    },
    {
     "name": "stdout",
     "output_type": "stream",
     "text": [
      "[########################################] | 100% Completed | 44.98 s\n"
     ]
    },
    {
     "name": "stderr",
     "output_type": "stream",
     "text": [
      " 20%|██        | 10/49 [05:05<24:46, 38.11s/it]"
     ]
    },
    {
     "name": "stdout",
     "output_type": "stream",
     "text": [
      "[#######                                 ] | 18% Completed | 12.51 s"
     ]
    },
    {
     "name": "stderr",
     "output_type": "stream",
     "text": [
      "/Users/aina/anaconda3/envs/atlite/lib/python3.11/site-packages/dask/core.py:121: RuntimeWarning: invalid value encountered in log\n",
      "  return func(*(_execute_task(a, cache) for a in args))\n"
     ]
    },
    {
     "name": "stdout",
     "output_type": "stream",
     "text": [
      "[########################################] | 100% Completed | 42.61 s\n"
     ]
    },
    {
     "name": "stderr",
     "output_type": "stream",
     "text": [
      " 22%|██▏       | 11/49 [05:50<25:38, 40.49s/it]"
     ]
    },
    {
     "name": "stdout",
     "output_type": "stream",
     "text": [
      "[#######                                 ] | 19% Completed | 12.22 s"
     ]
    },
    {
     "name": "stderr",
     "output_type": "stream",
     "text": [
      "/Users/aina/anaconda3/envs/atlite/lib/python3.11/site-packages/dask/core.py:121: RuntimeWarning: invalid value encountered in log\n",
      "  return func(*(_execute_task(a, cache) for a in args))\n"
     ]
    },
    {
     "name": "stdout",
     "output_type": "stream",
     "text": [
      "[########################################] | 100% Completed | 41.22 s\n"
     ]
    },
    {
     "name": "stderr",
     "output_type": "stream",
     "text": [
      " 24%|██▍       | 12/49 [06:34<25:34, 41.46s/it]"
     ]
    },
    {
     "name": "stdout",
     "output_type": "stream",
     "text": [
      "[#######                                 ] | 18% Completed | 11.10 s"
     ]
    },
    {
     "name": "stderr",
     "output_type": "stream",
     "text": [
      "/Users/aina/anaconda3/envs/atlite/lib/python3.11/site-packages/dask/core.py:121: RuntimeWarning: invalid value encountered in log\n",
      "  return func(*(_execute_task(a, cache) for a in args))\n"
     ]
    },
    {
     "name": "stdout",
     "output_type": "stream",
     "text": [
      "[########################################] | 100% Completed | 40.11 s\n"
     ]
    },
    {
     "name": "stderr",
     "output_type": "stream",
     "text": [
      " 27%|██▋       | 13/49 [07:17<25:10, 41.95s/it]"
     ]
    },
    {
     "name": "stdout",
     "output_type": "stream",
     "text": [
      "[#######                                 ] | 19% Completed | 12.39 s"
     ]
    },
    {
     "name": "stderr",
     "output_type": "stream",
     "text": [
      "/Users/aina/anaconda3/envs/atlite/lib/python3.11/site-packages/dask/core.py:121: RuntimeWarning: invalid value encountered in log\n",
      "  return func(*(_execute_task(a, cache) for a in args))\n"
     ]
    },
    {
     "name": "stdout",
     "output_type": "stream",
     "text": [
      "[########################################] | 100% Completed | 42.15 s\n"
     ]
    },
    {
     "name": "stderr",
     "output_type": "stream",
     "text": [
      " 29%|██▊       | 14/49 [08:02<25:00, 42.86s/it]"
     ]
    },
    {
     "name": "stdout",
     "output_type": "stream",
     "text": [
      "[#######                                 ] | 18% Completed | 13.93 s"
     ]
    },
    {
     "name": "stderr",
     "output_type": "stream",
     "text": [
      "/Users/aina/anaconda3/envs/atlite/lib/python3.11/site-packages/dask/core.py:121: RuntimeWarning: invalid value encountered in log\n",
      "  return func(*(_execute_task(a, cache) for a in args))\n"
     ]
    },
    {
     "name": "stdout",
     "output_type": "stream",
     "text": [
      "[########################################] | 100% Completed | 42.16 s\n"
     ]
    },
    {
     "name": "stderr",
     "output_type": "stream",
     "text": [
      " 31%|███       | 15/49 [08:47<24:38, 43.47s/it]"
     ]
    },
    {
     "name": "stdout",
     "output_type": "stream",
     "text": [
      "[#######                                 ] | 18% Completed | 11.17 s"
     ]
    },
    {
     "name": "stderr",
     "output_type": "stream",
     "text": [
      "/Users/aina/anaconda3/envs/atlite/lib/python3.11/site-packages/dask/core.py:121: RuntimeWarning: invalid value encountered in log\n",
      "  return func(*(_execute_task(a, cache) for a in args))\n"
     ]
    },
    {
     "name": "stdout",
     "output_type": "stream",
     "text": [
      "[########################################] | 100% Completed | 39.60 s\n"
     ]
    },
    {
     "name": "stderr",
     "output_type": "stream",
     "text": [
      " 33%|███▎      | 16/49 [09:30<23:45, 43.18s/it]"
     ]
    },
    {
     "name": "stdout",
     "output_type": "stream",
     "text": [
      "[#######                                 ] | 18% Completed | 10.48 s"
     ]
    },
    {
     "name": "stderr",
     "output_type": "stream",
     "text": [
      "/Users/aina/anaconda3/envs/atlite/lib/python3.11/site-packages/dask/core.py:121: RuntimeWarning: invalid value encountered in log\n",
      "  return func(*(_execute_task(a, cache) for a in args))\n"
     ]
    },
    {
     "name": "stdout",
     "output_type": "stream",
     "text": [
      "[########################################] | 100% Completed | 39.41 s\n"
     ]
    },
    {
     "name": "stderr",
     "output_type": "stream",
     "text": [
      " 35%|███▍      | 17/49 [10:12<22:52, 42.89s/it]"
     ]
    },
    {
     "name": "stdout",
     "output_type": "stream",
     "text": [
      "[#######                                 ] | 19% Completed | 12.40 s"
     ]
    },
    {
     "name": "stderr",
     "output_type": "stream",
     "text": [
      "/Users/aina/anaconda3/envs/atlite/lib/python3.11/site-packages/dask/core.py:121: RuntimeWarning: invalid value encountered in log\n",
      "  return func(*(_execute_task(a, cache) for a in args))\n"
     ]
    },
    {
     "name": "stdout",
     "output_type": "stream",
     "text": [
      "[########################################] | 100% Completed | 41.68 s\n"
     ]
    },
    {
     "name": "stderr",
     "output_type": "stream",
     "text": [
      " 37%|███▋      | 18/49 [10:57<22:27, 43.45s/it]"
     ]
    },
    {
     "name": "stdout",
     "output_type": "stream",
     "text": [
      "[#######                                 ] | 19% Completed | 13.20 s"
     ]
    },
    {
     "name": "stderr",
     "output_type": "stream",
     "text": [
      "/Users/aina/anaconda3/envs/atlite/lib/python3.11/site-packages/dask/core.py:121: RuntimeWarning: invalid value encountered in log\n",
      "  return func(*(_execute_task(a, cache) for a in args))\n"
     ]
    },
    {
     "name": "stdout",
     "output_type": "stream",
     "text": [
      "[########################################] | 100% Completed | 42.61 s\n"
     ]
    },
    {
     "name": "stderr",
     "output_type": "stream",
     "text": [
      " 39%|███▉      | 19/49 [11:42<22:00, 44.02s/it]"
     ]
    },
    {
     "name": "stdout",
     "output_type": "stream",
     "text": [
      "[#######                                 ] | 18% Completed | 11.51 s"
     ]
    },
    {
     "name": "stderr",
     "output_type": "stream",
     "text": [
      "/Users/aina/anaconda3/envs/atlite/lib/python3.11/site-packages/dask/core.py:121: RuntimeWarning: invalid value encountered in log\n",
      "  return func(*(_execute_task(a, cache) for a in args))\n"
     ]
    },
    {
     "name": "stdout",
     "output_type": "stream",
     "text": [
      "[########################################] | 100% Completed | 40.77 s\n"
     ]
    },
    {
     "name": "stderr",
     "output_type": "stream",
     "text": [
      " 41%|████      | 20/49 [12:25<21:11, 43.83s/it]"
     ]
    },
    {
     "name": "stdout",
     "output_type": "stream",
     "text": [
      "[#######                                 ] | 19% Completed | 11.99 s"
     ]
    },
    {
     "name": "stderr",
     "output_type": "stream",
     "text": [
      "/Users/aina/anaconda3/envs/atlite/lib/python3.11/site-packages/dask/core.py:121: RuntimeWarning: invalid value encountered in log\n",
      "  return func(*(_execute_task(a, cache) for a in args))\n"
     ]
    },
    {
     "name": "stdout",
     "output_type": "stream",
     "text": [
      "[########################################] | 100% Completed | 40.57 s\n"
     ]
    },
    {
     "name": "stderr",
     "output_type": "stream",
     "text": [
      " 43%|████▎     | 21/49 [13:09<20:24, 43.74s/it]"
     ]
    },
    {
     "name": "stdout",
     "output_type": "stream",
     "text": [
      "[#######                                 ] | 19% Completed | 11.12 s"
     ]
    },
    {
     "name": "stderr",
     "output_type": "stream",
     "text": [
      "/Users/aina/anaconda3/envs/atlite/lib/python3.11/site-packages/dask/core.py:121: RuntimeWarning: invalid value encountered in log\n",
      "  return func(*(_execute_task(a, cache) for a in args))\n"
     ]
    },
    {
     "name": "stdout",
     "output_type": "stream",
     "text": [
      "[########################################] | 100% Completed | 39.50 s\n"
     ]
    },
    {
     "name": "stderr",
     "output_type": "stream",
     "text": [
      " 45%|████▍     | 22/49 [13:51<19:28, 43.27s/it]"
     ]
    },
    {
     "name": "stdout",
     "output_type": "stream",
     "text": [
      "[#######                                 ] | 19% Completed | 10.72 s"
     ]
    },
    {
     "name": "stderr",
     "output_type": "stream",
     "text": [
      "/Users/aina/anaconda3/envs/atlite/lib/python3.11/site-packages/dask/core.py:121: RuntimeWarning: invalid value encountered in log\n",
      "  return func(*(_execute_task(a, cache) for a in args))\n"
     ]
    },
    {
     "name": "stdout",
     "output_type": "stream",
     "text": [
      "[########################################] | 100% Completed | 39.20 s\n"
     ]
    },
    {
     "name": "stderr",
     "output_type": "stream",
     "text": [
      " 47%|████▋     | 23/49 [14:33<18:34, 42.86s/it]"
     ]
    },
    {
     "name": "stdout",
     "output_type": "stream",
     "text": [
      "[#######                                 ] | 18% Completed | 11.25 s"
     ]
    },
    {
     "name": "stderr",
     "output_type": "stream",
     "text": [
      "/Users/aina/anaconda3/envs/atlite/lib/python3.11/site-packages/dask/core.py:121: RuntimeWarning: invalid value encountered in log\n",
      "  return func(*(_execute_task(a, cache) for a in args))\n"
     ]
    },
    {
     "name": "stdout",
     "output_type": "stream",
     "text": [
      "[########################################] | 100% Completed | 41.31 s\n"
     ]
    },
    {
     "name": "stderr",
     "output_type": "stream",
     "text": [
      " 49%|████▉     | 24/49 [15:17<17:59, 43.20s/it]"
     ]
    },
    {
     "name": "stdout",
     "output_type": "stream",
     "text": [
      "[#######                                 ] | 18% Completed | 11.23 s"
     ]
    },
    {
     "name": "stderr",
     "output_type": "stream",
     "text": [
      "/Users/aina/anaconda3/envs/atlite/lib/python3.11/site-packages/dask/core.py:121: RuntimeWarning: invalid value encountered in log\n",
      "  return func(*(_execute_task(a, cache) for a in args))\n"
     ]
    },
    {
     "name": "stdout",
     "output_type": "stream",
     "text": [
      "[########################################] | 100% Completed | 40.42 s\n"
     ]
    },
    {
     "name": "stderr",
     "output_type": "stream",
     "text": [
      " 51%|█████     | 25/49 [16:00<17:17, 43.23s/it]"
     ]
    },
    {
     "name": "stdout",
     "output_type": "stream",
     "text": [
      "[#######                                 ] | 19% Completed | 10.82 s"
     ]
    },
    {
     "name": "stderr",
     "output_type": "stream",
     "text": [
      "/Users/aina/anaconda3/envs/atlite/lib/python3.11/site-packages/dask/core.py:121: RuntimeWarning: invalid value encountered in log\n",
      "  return func(*(_execute_task(a, cache) for a in args))\n"
     ]
    },
    {
     "name": "stdout",
     "output_type": "stream",
     "text": [
      "[########################################] | 100% Completed | 38.93 s\n"
     ]
    },
    {
     "name": "stderr",
     "output_type": "stream",
     "text": [
      " 53%|█████▎    | 26/49 [16:42<16:23, 42.77s/it]"
     ]
    },
    {
     "name": "stdout",
     "output_type": "stream",
     "text": [
      "[#######                                 ] | 19% Completed | 8.63 s"
     ]
    },
    {
     "name": "stderr",
     "output_type": "stream",
     "text": [
      "/Users/aina/anaconda3/envs/atlite/lib/python3.11/site-packages/dask/core.py:121: RuntimeWarning: invalid value encountered in log\n",
      "  return func(*(_execute_task(a, cache) for a in args))\n"
     ]
    },
    {
     "name": "stdout",
     "output_type": "stream",
     "text": [
      "[########################################] | 100% Completed | 33.64 s\n"
     ]
    },
    {
     "name": "stderr",
     "output_type": "stream",
     "text": [
      " 55%|█████▌    | 27/49 [17:18<14:55, 40.72s/it]"
     ]
    },
    {
     "name": "stdout",
     "output_type": "stream",
     "text": [
      "[#######                                 ] | 19% Completed | 7.14 s"
     ]
    },
    {
     "name": "stderr",
     "output_type": "stream",
     "text": [
      "/Users/aina/anaconda3/envs/atlite/lib/python3.11/site-packages/dask/core.py:121: RuntimeWarning: invalid value encountered in log\n",
      "  return func(*(_execute_task(a, cache) for a in args))\n"
     ]
    },
    {
     "name": "stdout",
     "output_type": "stream",
     "text": [
      "[########################################] | 100% Completed | 26.79 s\n"
     ]
    },
    {
     "name": "stderr",
     "output_type": "stream",
     "text": [
      " 57%|█████▋    | 28/49 [17:47<12:59, 37.11s/it]"
     ]
    },
    {
     "name": "stdout",
     "output_type": "stream",
     "text": [
      "[#######                                 ] | 19% Completed | 7.00 s"
     ]
    },
    {
     "name": "stderr",
     "output_type": "stream",
     "text": [
      "/Users/aina/anaconda3/envs/atlite/lib/python3.11/site-packages/dask/core.py:121: RuntimeWarning: invalid value encountered in log\n",
      "  return func(*(_execute_task(a, cache) for a in args))\n"
     ]
    },
    {
     "name": "stdout",
     "output_type": "stream",
     "text": [
      "[########################################] | 100% Completed | 25.93 s\n"
     ]
    },
    {
     "name": "stderr",
     "output_type": "stream",
     "text": [
      " 59%|█████▉    | 29/49 [18:14<11:26, 34.33s/it]"
     ]
    },
    {
     "name": "stdout",
     "output_type": "stream",
     "text": [
      "[#######                                 ] | 19% Completed | 7.39 s"
     ]
    },
    {
     "name": "stderr",
     "output_type": "stream",
     "text": [
      "/Users/aina/anaconda3/envs/atlite/lib/python3.11/site-packages/dask/core.py:121: RuntimeWarning: invalid value encountered in log\n",
      "  return func(*(_execute_task(a, cache) for a in args))\n"
     ]
    },
    {
     "name": "stdout",
     "output_type": "stream",
     "text": [
      "[########################################] | 100% Completed | 28.13 s\n"
     ]
    },
    {
     "name": "stderr",
     "output_type": "stream",
     "text": [
      " 61%|██████    | 30/49 [18:44<10:28, 33.06s/it]"
     ]
    },
    {
     "name": "stdout",
     "output_type": "stream",
     "text": [
      "[#######                                 ] | 18% Completed | 7.56 s"
     ]
    },
    {
     "name": "stderr",
     "output_type": "stream",
     "text": [
      "/Users/aina/anaconda3/envs/atlite/lib/python3.11/site-packages/dask/core.py:121: RuntimeWarning: invalid value encountered in log\n",
      "  return func(*(_execute_task(a, cache) for a in args))\n"
     ]
    },
    {
     "name": "stdout",
     "output_type": "stream",
     "text": [
      "[########################################] | 100% Completed | 26.54 s\n"
     ]
    },
    {
     "name": "stderr",
     "output_type": "stream",
     "text": [
      " 63%|██████▎   | 31/49 [19:13<09:32, 31.78s/it]"
     ]
    },
    {
     "name": "stdout",
     "output_type": "stream",
     "text": [
      "[#######                                 ] | 19% Completed | 7.08 s"
     ]
    },
    {
     "name": "stderr",
     "output_type": "stream",
     "text": [
      "/Users/aina/anaconda3/envs/atlite/lib/python3.11/site-packages/dask/core.py:121: RuntimeWarning: invalid value encountered in log\n",
      "  return func(*(_execute_task(a, cache) for a in args))\n"
     ]
    },
    {
     "name": "stdout",
     "output_type": "stream",
     "text": [
      "[########################################] | 100% Completed | 25.80 s\n"
     ]
    },
    {
     "name": "stderr",
     "output_type": "stream",
     "text": [
      " 65%|██████▌   | 32/49 [19:41<08:39, 30.57s/it]"
     ]
    },
    {
     "name": "stdout",
     "output_type": "stream",
     "text": [
      "[#######                                 ] | 19% Completed | 6.94 s"
     ]
    },
    {
     "name": "stderr",
     "output_type": "stream",
     "text": [
      "/Users/aina/anaconda3/envs/atlite/lib/python3.11/site-packages/dask/core.py:121: RuntimeWarning: invalid value encountered in log\n",
      "  return func(*(_execute_task(a, cache) for a in args))\n"
     ]
    },
    {
     "name": "stdout",
     "output_type": "stream",
     "text": [
      "[########################################] | 100% Completed | 26.08 s\n"
     ]
    },
    {
     "name": "stderr",
     "output_type": "stream",
     "text": [
      " 67%|██████▋   | 33/49 [20:09<07:56, 29.81s/it]"
     ]
    },
    {
     "name": "stdout",
     "output_type": "stream",
     "text": [
      "[#######                                 ] | 19% Completed | 6.90 s"
     ]
    },
    {
     "name": "stderr",
     "output_type": "stream",
     "text": [
      "/Users/aina/anaconda3/envs/atlite/lib/python3.11/site-packages/dask/core.py:121: RuntimeWarning: invalid value encountered in log\n",
      "  return func(*(_execute_task(a, cache) for a in args))\n"
     ]
    },
    {
     "name": "stdout",
     "output_type": "stream",
     "text": [
      "[########################################] | 100% Completed | 25.38 s\n"
     ]
    },
    {
     "name": "stderr",
     "output_type": "stream",
     "text": [
      " 69%|██████▉   | 34/49 [20:36<07:15, 29.05s/it]"
     ]
    },
    {
     "name": "stdout",
     "output_type": "stream",
     "text": [
      "[#######                                 ] | 19% Completed | 6.87 s"
     ]
    },
    {
     "name": "stderr",
     "output_type": "stream",
     "text": [
      "/Users/aina/anaconda3/envs/atlite/lib/python3.11/site-packages/dask/core.py:121: RuntimeWarning: invalid value encountered in log\n",
      "  return func(*(_execute_task(a, cache) for a in args))\n"
     ]
    },
    {
     "name": "stdout",
     "output_type": "stream",
     "text": [
      "[########################################] | 100% Completed | 25.22 s\n"
     ]
    },
    {
     "name": "stderr",
     "output_type": "stream",
     "text": [
      " 71%|███████▏  | 35/49 [21:03<06:38, 28.47s/it]"
     ]
    },
    {
     "name": "stdout",
     "output_type": "stream",
     "text": [
      "[#######                                 ] | 19% Completed | 6.97 s"
     ]
    },
    {
     "name": "stderr",
     "output_type": "stream",
     "text": [
      "/Users/aina/anaconda3/envs/atlite/lib/python3.11/site-packages/dask/core.py:121: RuntimeWarning: invalid value encountered in log\n",
      "  return func(*(_execute_task(a, cache) for a in args))\n"
     ]
    },
    {
     "name": "stdout",
     "output_type": "stream",
     "text": [
      "[########################################] | 100% Completed | 25.34 s\n"
     ]
    },
    {
     "name": "stderr",
     "output_type": "stream",
     "text": [
      " 73%|███████▎  | 36/49 [21:31<06:05, 28.10s/it]"
     ]
    },
    {
     "name": "stdout",
     "output_type": "stream",
     "text": [
      "[#######                                 ] | 19% Completed | 6.97 s"
     ]
    },
    {
     "name": "stderr",
     "output_type": "stream",
     "text": [
      "/Users/aina/anaconda3/envs/atlite/lib/python3.11/site-packages/dask/core.py:121: RuntimeWarning: invalid value encountered in log\n",
      "  return func(*(_execute_task(a, cache) for a in args))\n"
     ]
    },
    {
     "name": "stdout",
     "output_type": "stream",
     "text": [
      "[########################################] | 100% Completed | 25.35 s\n"
     ]
    },
    {
     "name": "stderr",
     "output_type": "stream",
     "text": [
      " 76%|███████▌  | 37/49 [21:58<05:34, 27.85s/it]"
     ]
    },
    {
     "name": "stdout",
     "output_type": "stream",
     "text": [
      "[#######                                 ] | 19% Completed | 6.90 s"
     ]
    },
    {
     "name": "stderr",
     "output_type": "stream",
     "text": [
      "/Users/aina/anaconda3/envs/atlite/lib/python3.11/site-packages/dask/core.py:121: RuntimeWarning: invalid value encountered in log\n",
      "  return func(*(_execute_task(a, cache) for a in args))\n"
     ]
    },
    {
     "name": "stdout",
     "output_type": "stream",
     "text": [
      "[########################################] | 100% Completed | 26.12 s\n"
     ]
    },
    {
     "name": "stderr",
     "output_type": "stream",
     "text": [
      " 78%|███████▊  | 38/49 [22:26<05:06, 27.91s/it]"
     ]
    },
    {
     "name": "stdout",
     "output_type": "stream",
     "text": [
      "[#######                                 ] | 19% Completed | 6.89 s"
     ]
    },
    {
     "name": "stderr",
     "output_type": "stream",
     "text": [
      "/Users/aina/anaconda3/envs/atlite/lib/python3.11/site-packages/dask/core.py:121: RuntimeWarning: invalid value encountered in log\n",
      "  return func(*(_execute_task(a, cache) for a in args))\n"
     ]
    },
    {
     "name": "stdout",
     "output_type": "stream",
     "text": [
      "[########################################] | 100% Completed | 25.74 s\n"
     ]
    },
    {
     "name": "stderr",
     "output_type": "stream",
     "text": [
      " 80%|███████▉  | 39/49 [22:54<04:38, 27.82s/it]"
     ]
    },
    {
     "name": "stdout",
     "output_type": "stream",
     "text": [
      "[#######                                 ] | 19% Completed | 6.91 s"
     ]
    },
    {
     "name": "stderr",
     "output_type": "stream",
     "text": [
      "/Users/aina/anaconda3/envs/atlite/lib/python3.11/site-packages/dask/core.py:121: RuntimeWarning: invalid value encountered in log\n",
      "  return func(*(_execute_task(a, cache) for a in args))\n"
     ]
    },
    {
     "name": "stdout",
     "output_type": "stream",
     "text": [
      "[########################################] | 100% Completed | 25.20 s\n"
     ]
    },
    {
     "name": "stderr",
     "output_type": "stream",
     "text": [
      " 82%|████████▏ | 40/49 [23:21<04:08, 27.61s/it]"
     ]
    },
    {
     "name": "stdout",
     "output_type": "stream",
     "text": [
      "[#######                                 ] | 19% Completed | 7.00 s"
     ]
    },
    {
     "name": "stderr",
     "output_type": "stream",
     "text": [
      "/Users/aina/anaconda3/envs/atlite/lib/python3.11/site-packages/dask/core.py:121: RuntimeWarning: invalid value encountered in log\n",
      "  return func(*(_execute_task(a, cache) for a in args))\n"
     ]
    },
    {
     "name": "stdout",
     "output_type": "stream",
     "text": [
      "[########################################] | 100% Completed | 26.56 s\n"
     ]
    },
    {
     "name": "stderr",
     "output_type": "stream",
     "text": [
      " 84%|████████▎ | 41/49 [23:49<03:43, 27.90s/it]"
     ]
    },
    {
     "name": "stdout",
     "output_type": "stream",
     "text": [
      "[#######                                 ] | 19% Completed | 7.32 s"
     ]
    },
    {
     "name": "stderr",
     "output_type": "stream",
     "text": [
      "/Users/aina/anaconda3/envs/atlite/lib/python3.11/site-packages/dask/core.py:121: RuntimeWarning: invalid value encountered in log\n",
      "  return func(*(_execute_task(a, cache) for a in args))\n"
     ]
    },
    {
     "name": "stdout",
     "output_type": "stream",
     "text": [
      "[########################################] | 100% Completed | 27.12 s\n"
     ]
    },
    {
     "name": "stderr",
     "output_type": "stream",
     "text": [
      " 86%|████████▌ | 42/49 [24:18<03:17, 28.28s/it]"
     ]
    },
    {
     "name": "stdout",
     "output_type": "stream",
     "text": [
      "[#######                                 ] | 19% Completed | 7.64 s"
     ]
    },
    {
     "name": "stderr",
     "output_type": "stream",
     "text": [
      "/Users/aina/anaconda3/envs/atlite/lib/python3.11/site-packages/dask/core.py:121: RuntimeWarning: invalid value encountered in log\n",
      "  return func(*(_execute_task(a, cache) for a in args))\n"
     ]
    },
    {
     "name": "stdout",
     "output_type": "stream",
     "text": [
      "[########################################] | 100% Completed | 27.83 s\n"
     ]
    },
    {
     "name": "stderr",
     "output_type": "stream",
     "text": [
      " 88%|████████▊ | 43/49 [24:48<02:52, 28.78s/it]"
     ]
    },
    {
     "name": "stdout",
     "output_type": "stream",
     "text": [
      "[#######                                 ] | 19% Completed | 7.08 s"
     ]
    },
    {
     "name": "stderr",
     "output_type": "stream",
     "text": [
      "/Users/aina/anaconda3/envs/atlite/lib/python3.11/site-packages/dask/core.py:121: RuntimeWarning: invalid value encountered in log\n",
      "  return func(*(_execute_task(a, cache) for a in args))\n"
     ]
    },
    {
     "name": "stdout",
     "output_type": "stream",
     "text": [
      "[########################################] | 100% Completed | 26.93 s\n"
     ]
    },
    {
     "name": "stderr",
     "output_type": "stream",
     "text": [
      " 90%|████████▉ | 44/49 [25:17<02:24, 28.82s/it]"
     ]
    },
    {
     "name": "stdout",
     "output_type": "stream",
     "text": [
      "[#######                                 ] | 19% Completed | 7.86 s"
     ]
    },
    {
     "name": "stderr",
     "output_type": "stream",
     "text": [
      "/Users/aina/anaconda3/envs/atlite/lib/python3.11/site-packages/dask/core.py:121: RuntimeWarning: invalid value encountered in log\n",
      "  return func(*(_execute_task(a, cache) for a in args))\n"
     ]
    },
    {
     "name": "stdout",
     "output_type": "stream",
     "text": [
      "[########################################] | 100% Completed | 27.36 s\n"
     ]
    },
    {
     "name": "stderr",
     "output_type": "stream",
     "text": [
      " 92%|█████████▏| 45/49 [25:47<01:56, 29.00s/it]"
     ]
    },
    {
     "name": "stdout",
     "output_type": "stream",
     "text": [
      "[#######                                 ] | 19% Completed | 7.48 s"
     ]
    },
    {
     "name": "stderr",
     "output_type": "stream",
     "text": [
      "/Users/aina/anaconda3/envs/atlite/lib/python3.11/site-packages/dask/core.py:121: RuntimeWarning: invalid value encountered in log\n",
      "  return func(*(_execute_task(a, cache) for a in args))\n"
     ]
    },
    {
     "name": "stdout",
     "output_type": "stream",
     "text": [
      "[########################################] | 100% Completed | 27.66 s\n"
     ]
    },
    {
     "name": "stderr",
     "output_type": "stream",
     "text": [
      " 94%|█████████▍| 46/49 [26:16<01:27, 29.21s/it]"
     ]
    },
    {
     "name": "stdout",
     "output_type": "stream",
     "text": [
      "[#######                                 ] | 19% Completed | 8.42 s"
     ]
    },
    {
     "name": "stderr",
     "output_type": "stream",
     "text": [
      "/Users/aina/anaconda3/envs/atlite/lib/python3.11/site-packages/dask/core.py:121: RuntimeWarning: invalid value encountered in log\n",
      "  return func(*(_execute_task(a, cache) for a in args))\n"
     ]
    },
    {
     "name": "stdout",
     "output_type": "stream",
     "text": [
      "[########################################] | 100% Completed | 29.31 s\n"
     ]
    },
    {
     "name": "stderr",
     "output_type": "stream",
     "text": [
      " 96%|█████████▌| 47/49 [26:48<00:59, 29.90s/it]"
     ]
    },
    {
     "name": "stdout",
     "output_type": "stream",
     "text": [
      "[#######                                 ] | 19% Completed | 7.51 s"
     ]
    },
    {
     "name": "stderr",
     "output_type": "stream",
     "text": [
      "/Users/aina/anaconda3/envs/atlite/lib/python3.11/site-packages/dask/core.py:121: RuntimeWarning: invalid value encountered in log\n",
      "  return func(*(_execute_task(a, cache) for a in args))\n"
     ]
    },
    {
     "name": "stdout",
     "output_type": "stream",
     "text": [
      "[########################################] | 100% Completed | 29.37 s\n"
     ]
    },
    {
     "name": "stderr",
     "output_type": "stream",
     "text": [
      " 98%|█████████▊| 48/49 [27:19<00:30, 30.37s/it]"
     ]
    },
    {
     "name": "stdout",
     "output_type": "stream",
     "text": [
      "[#######                                 ] | 19% Completed | 9.53 s"
     ]
    },
    {
     "name": "stderr",
     "output_type": "stream",
     "text": [
      "/Users/aina/anaconda3/envs/atlite/lib/python3.11/site-packages/dask/core.py:121: RuntimeWarning: invalid value encountered in log\n",
      "  return func(*(_execute_task(a, cache) for a in args))\n"
     ]
    },
    {
     "name": "stdout",
     "output_type": "stream",
     "text": [
      "[########################################] | 100% Completed | 34.27 s\n"
     ]
    },
    {
     "name": "stderr",
     "output_type": "stream",
     "text": [
      "100%|██████████| 49/49 [27:56<00:00, 34.22s/it]\n"
     ]
    }
   ],
   "source": [
    "pv_cf, pv_gen, pv_ic = get_cf_series_atlite(cutout_ie=cutout_ie, df_capacity=df_capacity_solar, panel_model='KANENA', only_cf=False)"
   ]
  },
  {
   "cell_type": "code",
   "execution_count": 65,
   "metadata": {},
   "outputs": [],
   "source": [
    "pv_cf.to_netcdf('../data/pv_cf_1940_2023.nc')"
   ]
  }
 ],
 "metadata": {
  "kernelspec": {
   "display_name": "atlite",
   "language": "python",
   "name": "python3"
  },
  "language_info": {
   "codemirror_mode": {
    "name": "ipython",
    "version": 3
   },
   "file_extension": ".py",
   "mimetype": "text/x-python",
   "name": "python",
   "nbconvert_exporter": "python",
   "pygments_lexer": "ipython3",
   "version": "3.11.5"
  }
 },
 "nbformat": 4,
 "nbformat_minor": 2
}
